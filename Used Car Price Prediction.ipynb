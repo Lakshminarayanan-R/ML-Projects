{
 "cells": [
  {
   "cell_type": "code",
   "execution_count": 1,
   "id": "18851c8b",
   "metadata": {},
   "outputs": [],
   "source": [
    "!pip3 install jovian opendatasets --upgrade --quiet\n",
    "import opendatasets as od"
   ]
  },
  {
   "cell_type": "code",
   "execution_count": 2,
   "id": "ccf686e2",
   "metadata": {},
   "outputs": [
    {
     "name": "stdout",
     "output_type": "stream",
     "text": [
      "Skipping, found downloaded files in \"./used-car-price\" (use force=True to force download)\n"
     ]
    }
   ],
   "source": [
    "data = od.download('https://www.kaggle.com/datasets/sisirkantidas/used-car-price')\n",
    "data"
   ]
  },
  {
   "cell_type": "code",
   "execution_count": 3,
   "id": "62ca319e",
   "metadata": {},
   "outputs": [
    {
     "data": {
      "text/html": [
       "<div>\n",
       "<style scoped>\n",
       "    .dataframe tbody tr th:only-of-type {\n",
       "        vertical-align: middle;\n",
       "    }\n",
       "\n",
       "    .dataframe tbody tr th {\n",
       "        vertical-align: top;\n",
       "    }\n",
       "\n",
       "    .dataframe thead th {\n",
       "        text-align: right;\n",
       "    }\n",
       "</style>\n",
       "<table border=\"1\" class=\"dataframe\">\n",
       "  <thead>\n",
       "    <tr style=\"text-align: right;\">\n",
       "      <th></th>\n",
       "      <th>Unnamed: 0</th>\n",
       "      <th>manufactured</th>\n",
       "      <th>brand</th>\n",
       "      <th>varient</th>\n",
       "      <th>owner</th>\n",
       "      <th>fuel</th>\n",
       "      <th>type</th>\n",
       "      <th>kms</th>\n",
       "      <th>price</th>\n",
       "      <th>city</th>\n",
       "    </tr>\n",
       "  </thead>\n",
       "  <tbody>\n",
       "    <tr>\n",
       "      <th>0</th>\n",
       "      <td>0</td>\n",
       "      <td>2012</td>\n",
       "      <td>Maruti</td>\n",
       "      <td>['Swift', 'Dzire']</td>\n",
       "      <td>1st Owner</td>\n",
       "      <td>Diesel</td>\n",
       "      <td>Manual</td>\n",
       "      <td>1,18,117 km</td>\n",
       "      <td>316399</td>\n",
       "      <td>New Delhi</td>\n",
       "    </tr>\n",
       "    <tr>\n",
       "      <th>1</th>\n",
       "      <td>1</td>\n",
       "      <td>2013</td>\n",
       "      <td>Maruti</td>\n",
       "      <td>['Swift']</td>\n",
       "      <td>1st Owner</td>\n",
       "      <td>Diesel</td>\n",
       "      <td>Manual</td>\n",
       "      <td>1,14,506 km</td>\n",
       "      <td>341599</td>\n",
       "      <td>New Delhi</td>\n",
       "    </tr>\n",
       "    <tr>\n",
       "      <th>2</th>\n",
       "      <td>2</td>\n",
       "      <td>2014</td>\n",
       "      <td>Maruti</td>\n",
       "      <td>['Ritz']</td>\n",
       "      <td>1st Owner</td>\n",
       "      <td>Diesel</td>\n",
       "      <td>Manual</td>\n",
       "      <td>43,382 km</td>\n",
       "      <td>344199</td>\n",
       "      <td>New Delhi</td>\n",
       "    </tr>\n",
       "    <tr>\n",
       "      <th>3</th>\n",
       "      <td>3</td>\n",
       "      <td>2013</td>\n",
       "      <td>Hyundai</td>\n",
       "      <td>['i20']</td>\n",
       "      <td>1st Owner</td>\n",
       "      <td>Diesel</td>\n",
       "      <td>Manual</td>\n",
       "      <td>64,361 km</td>\n",
       "      <td>355799</td>\n",
       "      <td>New Delhi</td>\n",
       "    </tr>\n",
       "    <tr>\n",
       "      <th>4</th>\n",
       "      <td>4</td>\n",
       "      <td>2014</td>\n",
       "      <td>Maruti</td>\n",
       "      <td>['Swift']</td>\n",
       "      <td>1st Owner</td>\n",
       "      <td>Petrol</td>\n",
       "      <td>Manual</td>\n",
       "      <td>1,07,206 km</td>\n",
       "      <td>401599</td>\n",
       "      <td>New Delhi</td>\n",
       "    </tr>\n",
       "  </tbody>\n",
       "</table>\n",
       "</div>"
      ],
      "text/plain": [
       "   Unnamed: 0  manufactured    brand             varient      owner    fuel  \\\n",
       "0           0          2012   Maruti  ['Swift', 'Dzire']  1st Owner  Diesel   \n",
       "1           1          2013   Maruti           ['Swift']  1st Owner  Diesel   \n",
       "2           2          2014   Maruti            ['Ritz']  1st Owner  Diesel   \n",
       "3           3          2013  Hyundai             ['i20']  1st Owner  Diesel   \n",
       "4           4          2014   Maruti           ['Swift']  1st Owner  Petrol   \n",
       "\n",
       "     type          kms   price       city  \n",
       "0  Manual  1,18,117 km  316399  New Delhi  \n",
       "1  Manual  1,14,506 km  341599  New Delhi  \n",
       "2  Manual    43,382 km  344199  New Delhi  \n",
       "3  Manual    64,361 km  355799  New Delhi  \n",
       "4  Manual  1,07,206 km  401599  New Delhi  "
      ]
     },
     "execution_count": 3,
     "metadata": {},
     "output_type": "execute_result"
    }
   ],
   "source": [
    "import pandas as pd\n",
    "df = pd.read_csv('used-car-price/Used_car_price.csv')\n",
    "df.head()"
   ]
  },
  {
   "cell_type": "code",
   "execution_count": 4,
   "id": "864b45a9",
   "metadata": {},
   "outputs": [
    {
     "name": "stdout",
     "output_type": "stream",
     "text": [
      "<class 'pandas.core.frame.DataFrame'>\n",
      "RangeIndex: 5387 entries, 0 to 5386\n",
      "Data columns (total 10 columns):\n",
      " #   Column        Non-Null Count  Dtype \n",
      "---  ------        --------------  ----- \n",
      " 0   Unnamed: 0    5387 non-null   int64 \n",
      " 1   manufactured  5387 non-null   int64 \n",
      " 2   brand         5387 non-null   object\n",
      " 3   varient       5387 non-null   object\n",
      " 4   owner         5387 non-null   object\n",
      " 5   fuel          5387 non-null   object\n",
      " 6   type          5192 non-null   object\n",
      " 7   kms           5387 non-null   object\n",
      " 8   price         5387 non-null   object\n",
      " 9   city          5387 non-null   object\n",
      "dtypes: int64(2), object(8)\n",
      "memory usage: 421.0+ KB\n"
     ]
    }
   ],
   "source": [
    "df.info()"
   ]
  },
  {
   "cell_type": "code",
   "execution_count": 5,
   "id": "4e9912cf",
   "metadata": {},
   "outputs": [],
   "source": [
    "df['varient'] = df['varient'].apply(lambda x: x.replace('[','').replace(']','').replace(',','').replace(']','').replace(\"'\",''))"
   ]
  },
  {
   "cell_type": "code",
   "execution_count": 6,
   "id": "4a640f04",
   "metadata": {},
   "outputs": [
    {
     "data": {
      "text/html": [
       "<div>\n",
       "<style scoped>\n",
       "    .dataframe tbody tr th:only-of-type {\n",
       "        vertical-align: middle;\n",
       "    }\n",
       "\n",
       "    .dataframe tbody tr th {\n",
       "        vertical-align: top;\n",
       "    }\n",
       "\n",
       "    .dataframe thead th {\n",
       "        text-align: right;\n",
       "    }\n",
       "</style>\n",
       "<table border=\"1\" class=\"dataframe\">\n",
       "  <thead>\n",
       "    <tr style=\"text-align: right;\">\n",
       "      <th></th>\n",
       "      <th>Unnamed: 0</th>\n",
       "      <th>manufactured</th>\n",
       "      <th>brand</th>\n",
       "      <th>varient</th>\n",
       "      <th>owner</th>\n",
       "      <th>fuel</th>\n",
       "      <th>type</th>\n",
       "      <th>kms</th>\n",
       "      <th>price</th>\n",
       "      <th>city</th>\n",
       "    </tr>\n",
       "  </thead>\n",
       "  <tbody>\n",
       "    <tr>\n",
       "      <th>0</th>\n",
       "      <td>0</td>\n",
       "      <td>2012</td>\n",
       "      <td>Maruti</td>\n",
       "      <td>Swift Dzire</td>\n",
       "      <td>1st Owner</td>\n",
       "      <td>Diesel</td>\n",
       "      <td>Manual</td>\n",
       "      <td>1,18,117 km</td>\n",
       "      <td>316399</td>\n",
       "      <td>New Delhi</td>\n",
       "    </tr>\n",
       "    <tr>\n",
       "      <th>1</th>\n",
       "      <td>1</td>\n",
       "      <td>2013</td>\n",
       "      <td>Maruti</td>\n",
       "      <td>Swift</td>\n",
       "      <td>1st Owner</td>\n",
       "      <td>Diesel</td>\n",
       "      <td>Manual</td>\n",
       "      <td>1,14,506 km</td>\n",
       "      <td>341599</td>\n",
       "      <td>New Delhi</td>\n",
       "    </tr>\n",
       "    <tr>\n",
       "      <th>2</th>\n",
       "      <td>2</td>\n",
       "      <td>2014</td>\n",
       "      <td>Maruti</td>\n",
       "      <td>Ritz</td>\n",
       "      <td>1st Owner</td>\n",
       "      <td>Diesel</td>\n",
       "      <td>Manual</td>\n",
       "      <td>43,382 km</td>\n",
       "      <td>344199</td>\n",
       "      <td>New Delhi</td>\n",
       "    </tr>\n",
       "    <tr>\n",
       "      <th>3</th>\n",
       "      <td>3</td>\n",
       "      <td>2013</td>\n",
       "      <td>Hyundai</td>\n",
       "      <td>i20</td>\n",
       "      <td>1st Owner</td>\n",
       "      <td>Diesel</td>\n",
       "      <td>Manual</td>\n",
       "      <td>64,361 km</td>\n",
       "      <td>355799</td>\n",
       "      <td>New Delhi</td>\n",
       "    </tr>\n",
       "    <tr>\n",
       "      <th>4</th>\n",
       "      <td>4</td>\n",
       "      <td>2014</td>\n",
       "      <td>Maruti</td>\n",
       "      <td>Swift</td>\n",
       "      <td>1st Owner</td>\n",
       "      <td>Petrol</td>\n",
       "      <td>Manual</td>\n",
       "      <td>1,07,206 km</td>\n",
       "      <td>401599</td>\n",
       "      <td>New Delhi</td>\n",
       "    </tr>\n",
       "  </tbody>\n",
       "</table>\n",
       "</div>"
      ],
      "text/plain": [
       "   Unnamed: 0  manufactured    brand      varient      owner    fuel    type  \\\n",
       "0           0          2012   Maruti  Swift Dzire  1st Owner  Diesel  Manual   \n",
       "1           1          2013   Maruti        Swift  1st Owner  Diesel  Manual   \n",
       "2           2          2014   Maruti         Ritz  1st Owner  Diesel  Manual   \n",
       "3           3          2013  Hyundai          i20  1st Owner  Diesel  Manual   \n",
       "4           4          2014   Maruti        Swift  1st Owner  Petrol  Manual   \n",
       "\n",
       "           kms   price       city  \n",
       "0  1,18,117 km  316399  New Delhi  \n",
       "1  1,14,506 km  341599  New Delhi  \n",
       "2    43,382 km  344199  New Delhi  \n",
       "3    64,361 km  355799  New Delhi  \n",
       "4  1,07,206 km  401599  New Delhi  "
      ]
     },
     "execution_count": 6,
     "metadata": {},
     "output_type": "execute_result"
    }
   ],
   "source": [
    "df.head()"
   ]
  },
  {
   "cell_type": "code",
   "execution_count": 7,
   "id": "2febd82c",
   "metadata": {},
   "outputs": [
    {
     "data": {
      "text/plain": [
       "array(['Maruti', 'Hyundai', 'Honda', 'Ford', 'Volvo', 'Tata', 'Toyota',\n",
       "       'BMW', 'Mahindra', 'Datsun', 'Audi', 'MG', 'Skoda', 'Renault',\n",
       "       'Volkswagen', 'HYUNDAI', 'Nissan', 'KIA', 'Jeep', 'Mercedes',\n",
       "       'Landrover', 'Jaguar', 'Kia', 'Chevrolet', 'Mercedes-Benz',\n",
       "       'Mitsubishi', 'Ambassador', 'Land'], dtype=object)"
      ]
     },
     "execution_count": 7,
     "metadata": {},
     "output_type": "execute_result"
    }
   ],
   "source": [
    "df.brand.unique()"
   ]
  },
  {
   "cell_type": "code",
   "execution_count": 8,
   "id": "013ee2c1",
   "metadata": {},
   "outputs": [],
   "source": [
    "df['brand'] = df['brand'].apply(lambda x: x.capitalize())\n",
    "df['brand'] = df['brand'].apply(lambda x: 'Mercedes' if x == 'Mercedes-benz' else x)"
   ]
  },
  {
   "cell_type": "code",
   "execution_count": 9,
   "id": "85619b86",
   "metadata": {},
   "outputs": [
    {
     "data": {
      "text/plain": [
       "array(['Maruti', 'Hyundai', 'Honda', 'Ford', 'Volvo', 'Tata', 'Toyota',\n",
       "       'Bmw', 'Mahindra', 'Datsun', 'Audi', 'Mg', 'Skoda', 'Renault',\n",
       "       'Volkswagen', 'Nissan', 'Kia', 'Jeep', 'Mercedes', 'Landrover',\n",
       "       'Jaguar', 'Chevrolet', 'Mitsubishi', 'Ambassador', 'Land'],\n",
       "      dtype=object)"
      ]
     },
     "execution_count": 9,
     "metadata": {},
     "output_type": "execute_result"
    }
   ],
   "source": [
    "df.brand.unique()"
   ]
  },
  {
   "cell_type": "code",
   "execution_count": 10,
   "id": "9a80b983",
   "metadata": {},
   "outputs": [
    {
     "data": {
      "text/html": [
       "<div>\n",
       "<style scoped>\n",
       "    .dataframe tbody tr th:only-of-type {\n",
       "        vertical-align: middle;\n",
       "    }\n",
       "\n",
       "    .dataframe tbody tr th {\n",
       "        vertical-align: top;\n",
       "    }\n",
       "\n",
       "    .dataframe thead th {\n",
       "        text-align: right;\n",
       "    }\n",
       "</style>\n",
       "<table border=\"1\" class=\"dataframe\">\n",
       "  <thead>\n",
       "    <tr style=\"text-align: right;\">\n",
       "      <th></th>\n",
       "      <th>Unnamed: 0</th>\n",
       "      <th>manufactured</th>\n",
       "      <th>brand</th>\n",
       "      <th>varient</th>\n",
       "      <th>owner</th>\n",
       "      <th>fuel</th>\n",
       "      <th>type</th>\n",
       "      <th>kms</th>\n",
       "      <th>price</th>\n",
       "      <th>city</th>\n",
       "    </tr>\n",
       "  </thead>\n",
       "  <tbody>\n",
       "    <tr>\n",
       "      <th>2940</th>\n",
       "      <td>440</td>\n",
       "      <td>2014</td>\n",
       "      <td>Landrover</td>\n",
       "      <td>Freelander 2</td>\n",
       "      <td>2nd Owner</td>\n",
       "      <td>Diesel</td>\n",
       "      <td>Automatic</td>\n",
       "      <td>1,17,674 km</td>\n",
       "      <td>1423599</td>\n",
       "      <td>Pune</td>\n",
       "    </tr>\n",
       "    <tr>\n",
       "      <th>5286</th>\n",
       "      <td>599</td>\n",
       "      <td>2017</td>\n",
       "      <td>Land</td>\n",
       "      <td>Rover Range Rover Velar</td>\n",
       "      <td>-</td>\n",
       "      <td>Diesel</td>\n",
       "      <td>automatic</td>\n",
       "      <td>40,000 kms</td>\n",
       "      <td>66,80,000</td>\n",
       "      <td>new-delhi</td>\n",
       "    </tr>\n",
       "  </tbody>\n",
       "</table>\n",
       "</div>"
      ],
      "text/plain": [
       "      Unnamed: 0  manufactured      brand                  varient      owner  \\\n",
       "2940         440          2014  Landrover             Freelander 2  2nd Owner   \n",
       "5286         599          2017       Land  Rover Range Rover Velar          -   \n",
       "\n",
       "        fuel       type          kms      price       city  \n",
       "2940  Diesel  Automatic  1,17,674 km    1423599       Pune  \n",
       "5286  Diesel  automatic   40,000 kms  66,80,000  new-delhi  "
      ]
     },
     "execution_count": 10,
     "metadata": {},
     "output_type": "execute_result"
    }
   ],
   "source": [
    "df[(df['brand'] == 'Landrover') | (df['brand'] == 'Land')]"
   ]
  },
  {
   "cell_type": "code",
   "execution_count": 11,
   "id": "356c0006",
   "metadata": {},
   "outputs": [
    {
     "data": {
      "text/plain": [
       "array(['Swift Dzire', 'Swift', 'Ritz', 'i20', 'City', 'Wagon R 1.0',\n",
       "       'Ciaz', 'Fiesta', 'S60', 'Baleno', 'Tiago', 'Verna', 'Fortuner',\n",
       "       'X3', 'AURA', 'Tucson New', '3 Series', 'TUV300', 'S Cross',\n",
       "       'New Wagon-R', 'Xcent', 'Bolero', 'IGNIS', 'New Figo', 'i10',\n",
       "       'Creta', 'Elite i20', 'Redi Go', 'VENUE', 'Ecosport', 'Dzire',\n",
       "       'Q3', 'Glanza', 'Grand i10', 'HECTOR', 'Innova', 'Vitara Brezza',\n",
       "       'Amaze', 'Ertiga', 'Superb', 'WR-V', 'Jazz', 'Kwid', 'Figo Aspire',\n",
       "       'YARIS', 'Corolla Altis', 'Brio', 'Duster', 'S PRESSO',\n",
       "       'Etios Liva', 'Alto K10', 'Etios', 'Polo', 'Alto', 'Alto 800',\n",
       "       'XUV500', '5 Series', 'Celerio', 'Eon', 'Vento', 'GRAND I10 NIOS',\n",
       "       'Figo', 'Mobilio', 'NEW I20', 'Scorpio', 'TIGOR', 'Terrano',\n",
       "       'FREESTYLE', 'NEXON', 'X1', 'Thar', 'XUV 3OO', 'Innova Crysta',\n",
       "       'CRV', 'Civic', 'XL6', 'i20 Active', 'SELTOS', 'BR-V', 'Hexa',\n",
       "       'Compass', 'Rapid', 'Ameo', 'MARAZZO', 'Eeco', 'Passat',\n",
       "       'NEW SANTRO', 'OMNI E', 'A Star', 'TRIBER', 'Wagon R Stingray',\n",
       "       'Santa Fe', 'SX4', 'Benz E Class', 'Jetta', 'Wagon R', 'Nano',\n",
       "       'Harrier', 'New Elantra', 'Camry', 'Micra', 'Freelander 2', 'XF',\n",
       "       'Zen Estilo', 'Santro Xing', 'A3', 'Kuv100', 'Captur', 'NUVOSPORT',\n",
       "       'Lodgy', 'Celerio X', 'Micra Active', 'Kicks', 'S-Presso',\n",
       "       'Quanto', 'KWID', 'Seltos', 'Sail Hatchback', 'New C-Class',\n",
       "       'Aura', 'Beat', 'Venue', 'Ignis', 'Marazzo', 'Sonet', 'E-Class',\n",
       "       'Grand i10 Nios', 'Hector Plus', 'TUV 300', 'Altroz', 'Cruze',\n",
       "       'Hector', 'Pajero', '7 Series', 'Nexon', 'Omni', 'Manza', 'Santro',\n",
       "       '', 'Indica', 'Indigo', 'Optra', 'Triber', 'Freestyle', 'EON',\n",
       "       'M-Class', 'RediGO', 'KUV 100', 'XUV300', 'GO', 'Sumo', '800',\n",
       "       'S60 Cross Country', 'Sunny', 'GO Plus', 'Spark',\n",
       "       'Bolero Power Plus', 'XE', 'SX4 S Cross', 'GLA Class', 'New Laura',\n",
       "       'GL-Class', 'Rover Range Rover Velar'], dtype=object)"
      ]
     },
     "execution_count": 11,
     "metadata": {},
     "output_type": "execute_result"
    }
   ],
   "source": [
    "df.varient.unique()"
   ]
  },
  {
   "cell_type": "code",
   "execution_count": 12,
   "id": "2d674db6",
   "metadata": {},
   "outputs": [],
   "source": [
    "df['varient'] = df['varient'].apply(lambda x: x.capitalize())"
   ]
  },
  {
   "cell_type": "code",
   "execution_count": 13,
   "id": "874dd9e7",
   "metadata": {},
   "outputs": [
    {
     "data": {
      "text/plain": [
       "array(['Swift dzire', 'Swift', 'Ritz', 'I20', 'City', 'Wagon r 1.0',\n",
       "       'Ciaz', 'Fiesta', 'S60', 'Baleno', 'Tiago', 'Verna', 'Fortuner',\n",
       "       'X3', 'Aura', 'Tucson new', '3 series', 'Tuv300', 'S cross',\n",
       "       'New wagon-r', 'Xcent', 'Bolero', 'Ignis', 'New figo', 'I10',\n",
       "       'Creta', 'Elite i20', 'Redi go', 'Venue', 'Ecosport', 'Dzire',\n",
       "       'Q3', 'Glanza', 'Grand i10', 'Hector', 'Innova', 'Vitara brezza',\n",
       "       'Amaze', 'Ertiga', 'Superb', 'Wr-v', 'Jazz', 'Kwid', 'Figo aspire',\n",
       "       'Yaris', 'Corolla altis', 'Brio', 'Duster', 'S presso',\n",
       "       'Etios liva', 'Alto k10', 'Etios', 'Polo', 'Alto', 'Alto 800',\n",
       "       'Xuv500', '5 series', 'Celerio', 'Eon', 'Vento', 'Grand i10 nios',\n",
       "       'Figo', 'Mobilio', 'New i20', 'Scorpio', 'Tigor', 'Terrano',\n",
       "       'Freestyle', 'Nexon', 'X1', 'Thar', 'Xuv 3oo', 'Innova crysta',\n",
       "       'Crv', 'Civic', 'Xl6', 'I20 active', 'Seltos', 'Br-v', 'Hexa',\n",
       "       'Compass', 'Rapid', 'Ameo', 'Marazzo', 'Eeco', 'Passat',\n",
       "       'New santro', 'Omni e', 'A star', 'Triber', 'Wagon r stingray',\n",
       "       'Santa fe', 'Sx4', 'Benz e class', 'Jetta', 'Wagon r', 'Nano',\n",
       "       'Harrier', 'New elantra', 'Camry', 'Micra', 'Freelander 2', 'Xf',\n",
       "       'Zen estilo', 'Santro xing', 'A3', 'Kuv100', 'Captur', 'Nuvosport',\n",
       "       'Lodgy', 'Celerio x', 'Micra active', 'Kicks', 'S-presso',\n",
       "       'Quanto', 'Sail hatchback', 'New c-class', 'Beat', 'Sonet',\n",
       "       'E-class', 'Hector plus', 'Tuv 300', 'Altroz', 'Cruze', 'Pajero',\n",
       "       '7 series', 'Omni', 'Manza', 'Santro', '', 'Indica', 'Indigo',\n",
       "       'Optra', 'M-class', 'Redigo', 'Kuv 100', 'Xuv300', 'Go', 'Sumo',\n",
       "       '800', 'S60 cross country', 'Sunny', 'Go plus', 'Spark',\n",
       "       'Bolero power plus', 'Xe', 'Sx4 s cross', 'Gla class', 'New laura',\n",
       "       'Gl-class', 'Rover range rover velar'], dtype=object)"
      ]
     },
     "execution_count": 13,
     "metadata": {},
     "output_type": "execute_result"
    }
   ],
   "source": [
    "df.varient.unique()"
   ]
  },
  {
   "cell_type": "code",
   "execution_count": 14,
   "id": "23dcc3ec",
   "metadata": {},
   "outputs": [
    {
     "data": {
      "text/plain": [
       "array(['1st Owner', '2nd Owner', '3rd Owner', '4th Owner', '-',\n",
       "       'First Owner', 'Second Owner', 'Third Owner'], dtype=object)"
      ]
     },
     "execution_count": 14,
     "metadata": {},
     "output_type": "execute_result"
    }
   ],
   "source": [
    "df.owner.unique()"
   ]
  },
  {
   "cell_type": "code",
   "execution_count": 15,
   "id": "13fc7164",
   "metadata": {},
   "outputs": [
    {
     "data": {
      "text/plain": [
       "(5387, 10)"
      ]
     },
     "execution_count": 15,
     "metadata": {},
     "output_type": "execute_result"
    }
   ],
   "source": [
    "df.shape"
   ]
  },
  {
   "cell_type": "code",
   "execution_count": 16,
   "id": "8c64949f",
   "metadata": {},
   "outputs": [
    {
     "data": {
      "text/plain": [
       "Unnamed: 0      491\n",
       "manufactured    491\n",
       "brand           491\n",
       "varient         491\n",
       "owner           491\n",
       "fuel            491\n",
       "type            491\n",
       "kms             491\n",
       "price           491\n",
       "city            491\n",
       "dtype: int64"
      ]
     },
     "execution_count": 16,
     "metadata": {},
     "output_type": "execute_result"
    }
   ],
   "source": [
    "df[df['owner'] == '-'].count()"
   ]
  },
  {
   "cell_type": "code",
   "execution_count": 17,
   "id": "9bfd92b2",
   "metadata": {},
   "outputs": [],
   "source": [
    "df1 = df.copy()"
   ]
  },
  {
   "cell_type": "code",
   "execution_count": 18,
   "id": "86710e18",
   "metadata": {},
   "outputs": [],
   "source": [
    "df1['owner'] = df1['owner'].apply(lambda x: x.split(' ')[0])"
   ]
  },
  {
   "cell_type": "code",
   "execution_count": 19,
   "id": "9abe5fa4",
   "metadata": {},
   "outputs": [],
   "source": [
    "df1 = df1[df1['owner'] != '-']"
   ]
  },
  {
   "cell_type": "code",
   "execution_count": 20,
   "id": "b4a46076",
   "metadata": {},
   "outputs": [
    {
     "data": {
      "text/plain": [
       "(4896, 10)"
      ]
     },
     "execution_count": 20,
     "metadata": {},
     "output_type": "execute_result"
    }
   ],
   "source": [
    "df1.shape"
   ]
  },
  {
   "cell_type": "code",
   "execution_count": 21,
   "id": "cdd19e07",
   "metadata": {},
   "outputs": [
    {
     "data": {
      "text/plain": [
       "{'1st': 1, 'First': 1, '2nd': 2, 'Second': 2, '3rd': 3, 'Third': 3, '4th': 4}"
      ]
     },
     "execution_count": 21,
     "metadata": {},
     "output_type": "execute_result"
    }
   ],
   "source": [
    "owner_dict = {'1st': 1,'First':1,'2nd':2,'Second':2,'3rd':3,'Third':3,'4th':4}\n",
    "owner_dict"
   ]
  },
  {
   "cell_type": "code",
   "execution_count": 22,
   "id": "f69ca98b",
   "metadata": {},
   "outputs": [
    {
     "name": "stdout",
     "output_type": "stream",
     "text": [
      "key: 1st value: 1\n",
      "key: First value: 1\n",
      "key: 2nd value: 2\n",
      "key: Second value: 2\n",
      "key: 3rd value: 3\n",
      "key: Third value: 3\n",
      "key: 4th value: 4\n"
     ]
    }
   ],
   "source": [
    "for key, value in owner_dict.items():\n",
    "    print('key:',key,'value:',value)"
   ]
  },
  {
   "cell_type": "code",
   "execution_count": 23,
   "id": "19ca7876",
   "metadata": {},
   "outputs": [
    {
     "data": {
      "text/html": [
       "<div>\n",
       "<style scoped>\n",
       "    .dataframe tbody tr th:only-of-type {\n",
       "        vertical-align: middle;\n",
       "    }\n",
       "\n",
       "    .dataframe tbody tr th {\n",
       "        vertical-align: top;\n",
       "    }\n",
       "\n",
       "    .dataframe thead th {\n",
       "        text-align: right;\n",
       "    }\n",
       "</style>\n",
       "<table border=\"1\" class=\"dataframe\">\n",
       "  <thead>\n",
       "    <tr style=\"text-align: right;\">\n",
       "      <th></th>\n",
       "      <th>Unnamed: 0</th>\n",
       "      <th>manufactured</th>\n",
       "      <th>brand</th>\n",
       "      <th>varient</th>\n",
       "      <th>owner</th>\n",
       "      <th>fuel</th>\n",
       "      <th>type</th>\n",
       "      <th>kms</th>\n",
       "      <th>price</th>\n",
       "      <th>city</th>\n",
       "      <th>owners</th>\n",
       "    </tr>\n",
       "  </thead>\n",
       "  <tbody>\n",
       "    <tr>\n",
       "      <th>0</th>\n",
       "      <td>0</td>\n",
       "      <td>2012</td>\n",
       "      <td>Maruti</td>\n",
       "      <td>Swift dzire</td>\n",
       "      <td>1st</td>\n",
       "      <td>Diesel</td>\n",
       "      <td>Manual</td>\n",
       "      <td>1,18,117 km</td>\n",
       "      <td>316399</td>\n",
       "      <td>New Delhi</td>\n",
       "      <td>[1]</td>\n",
       "    </tr>\n",
       "    <tr>\n",
       "      <th>1</th>\n",
       "      <td>1</td>\n",
       "      <td>2013</td>\n",
       "      <td>Maruti</td>\n",
       "      <td>Swift</td>\n",
       "      <td>1st</td>\n",
       "      <td>Diesel</td>\n",
       "      <td>Manual</td>\n",
       "      <td>1,14,506 km</td>\n",
       "      <td>341599</td>\n",
       "      <td>New Delhi</td>\n",
       "      <td>[1]</td>\n",
       "    </tr>\n",
       "    <tr>\n",
       "      <th>2</th>\n",
       "      <td>2</td>\n",
       "      <td>2014</td>\n",
       "      <td>Maruti</td>\n",
       "      <td>Ritz</td>\n",
       "      <td>1st</td>\n",
       "      <td>Diesel</td>\n",
       "      <td>Manual</td>\n",
       "      <td>43,382 km</td>\n",
       "      <td>344199</td>\n",
       "      <td>New Delhi</td>\n",
       "      <td>[1]</td>\n",
       "    </tr>\n",
       "  </tbody>\n",
       "</table>\n",
       "</div>"
      ],
      "text/plain": [
       "   Unnamed: 0  manufactured   brand      varient owner    fuel    type  \\\n",
       "0           0          2012  Maruti  Swift dzire   1st  Diesel  Manual   \n",
       "1           1          2013  Maruti        Swift   1st  Diesel  Manual   \n",
       "2           2          2014  Maruti         Ritz   1st  Diesel  Manual   \n",
       "\n",
       "           kms   price       city owners  \n",
       "0  1,18,117 km  316399  New Delhi    [1]  \n",
       "1  1,14,506 km  341599  New Delhi    [1]  \n",
       "2    43,382 km  344199  New Delhi    [1]  "
      ]
     },
     "execution_count": 23,
     "metadata": {},
     "output_type": "execute_result"
    }
   ],
   "source": [
    "#This will give output as a list for each row\n",
    "df1['owners'] = df1['owner'].apply(lambda x: [values for key,values in owner_dict.items() if x == key])\n",
    "df1.head(3)"
   ]
  },
  {
   "cell_type": "code",
   "execution_count": 24,
   "id": "7f04fd5c",
   "metadata": {},
   "outputs": [
    {
     "data": {
      "text/html": [
       "<div>\n",
       "<style scoped>\n",
       "    .dataframe tbody tr th:only-of-type {\n",
       "        vertical-align: middle;\n",
       "    }\n",
       "\n",
       "    .dataframe tbody tr th {\n",
       "        vertical-align: top;\n",
       "    }\n",
       "\n",
       "    .dataframe thead th {\n",
       "        text-align: right;\n",
       "    }\n",
       "</style>\n",
       "<table border=\"1\" class=\"dataframe\">\n",
       "  <thead>\n",
       "    <tr style=\"text-align: right;\">\n",
       "      <th></th>\n",
       "      <th>Unnamed: 0</th>\n",
       "      <th>manufactured</th>\n",
       "      <th>brand</th>\n",
       "      <th>varient</th>\n",
       "      <th>owner</th>\n",
       "      <th>fuel</th>\n",
       "      <th>type</th>\n",
       "      <th>kms</th>\n",
       "      <th>price</th>\n",
       "      <th>city</th>\n",
       "      <th>owners</th>\n",
       "    </tr>\n",
       "  </thead>\n",
       "  <tbody>\n",
       "    <tr>\n",
       "      <th>0</th>\n",
       "      <td>0</td>\n",
       "      <td>2012</td>\n",
       "      <td>Maruti</td>\n",
       "      <td>Swift dzire</td>\n",
       "      <td>1st</td>\n",
       "      <td>Diesel</td>\n",
       "      <td>Manual</td>\n",
       "      <td>1,18,117 km</td>\n",
       "      <td>316399</td>\n",
       "      <td>New Delhi</td>\n",
       "      <td>1</td>\n",
       "    </tr>\n",
       "    <tr>\n",
       "      <th>1</th>\n",
       "      <td>1</td>\n",
       "      <td>2013</td>\n",
       "      <td>Maruti</td>\n",
       "      <td>Swift</td>\n",
       "      <td>1st</td>\n",
       "      <td>Diesel</td>\n",
       "      <td>Manual</td>\n",
       "      <td>1,14,506 km</td>\n",
       "      <td>341599</td>\n",
       "      <td>New Delhi</td>\n",
       "      <td>1</td>\n",
       "    </tr>\n",
       "    <tr>\n",
       "      <th>2</th>\n",
       "      <td>2</td>\n",
       "      <td>2014</td>\n",
       "      <td>Maruti</td>\n",
       "      <td>Ritz</td>\n",
       "      <td>1st</td>\n",
       "      <td>Diesel</td>\n",
       "      <td>Manual</td>\n",
       "      <td>43,382 km</td>\n",
       "      <td>344199</td>\n",
       "      <td>New Delhi</td>\n",
       "      <td>1</td>\n",
       "    </tr>\n",
       "  </tbody>\n",
       "</table>\n",
       "</div>"
      ],
      "text/plain": [
       "   Unnamed: 0  manufactured   brand      varient owner    fuel    type  \\\n",
       "0           0          2012  Maruti  Swift dzire   1st  Diesel  Manual   \n",
       "1           1          2013  Maruti        Swift   1st  Diesel  Manual   \n",
       "2           2          2014  Maruti         Ritz   1st  Diesel  Manual   \n",
       "\n",
       "           kms   price       city owners  \n",
       "0  1,18,117 km  316399  New Delhi      1  \n",
       "1  1,14,506 km  341599  New Delhi      1  \n",
       "2    43,382 km  344199  New Delhi      1  "
      ]
     },
     "execution_count": 24,
     "metadata": {},
     "output_type": "execute_result"
    }
   ],
   "source": [
    "#This will convert the list to string\n",
    "df1['owners'] = df1['owners'].apply(lambda x: ''.join([str(i) for i in x]))\n",
    "df1.head(3)"
   ]
  },
  {
   "cell_type": "code",
   "execution_count": 25,
   "id": "9c2d5b30",
   "metadata": {},
   "outputs": [
    {
     "data": {
      "text/plain": [
       "str"
      ]
     },
     "execution_count": 25,
     "metadata": {},
     "output_type": "execute_result"
    }
   ],
   "source": [
    "type(df1.owners[0])"
   ]
  },
  {
   "cell_type": "code",
   "execution_count": 26,
   "id": "fd98e2ee",
   "metadata": {},
   "outputs": [
    {
     "data": {
      "text/plain": [
       "array(['1', '2', '3', '4'], dtype=object)"
      ]
     },
     "execution_count": 26,
     "metadata": {},
     "output_type": "execute_result"
    }
   ],
   "source": [
    "df1.owners.unique()"
   ]
  },
  {
   "cell_type": "code",
   "execution_count": 27,
   "id": "30f7daaf",
   "metadata": {},
   "outputs": [
    {
     "data": {
      "text/plain": [
       "array(['Diesel', 'Petrol', 'Petrol + CNG', 'Petrol + LPG', 'CNG'],\n",
       "      dtype=object)"
      ]
     },
     "execution_count": 27,
     "metadata": {},
     "output_type": "execute_result"
    }
   ],
   "source": [
    "df1.fuel.unique()"
   ]
  },
  {
   "cell_type": "code",
   "execution_count": 28,
   "id": "042d4fdc",
   "metadata": {},
   "outputs": [
    {
     "data": {
      "text/plain": [
       "array(['Manual', 'Automatic', nan, 'manual', 'automatic'], dtype=object)"
      ]
     },
     "execution_count": 28,
     "metadata": {},
     "output_type": "execute_result"
    }
   ],
   "source": [
    "df1.type.unique()"
   ]
  },
  {
   "cell_type": "code",
   "execution_count": 29,
   "id": "33419896",
   "metadata": {},
   "outputs": [
    {
     "data": {
      "text/plain": [
       "Unnamed: 0        0\n",
       "manufactured      0\n",
       "brand             0\n",
       "varient           0\n",
       "owner             0\n",
       "fuel              0\n",
       "type            195\n",
       "kms               0\n",
       "price             0\n",
       "city              0\n",
       "owners            0\n",
       "dtype: int64"
      ]
     },
     "execution_count": 29,
     "metadata": {},
     "output_type": "execute_result"
    }
   ],
   "source": [
    "df1.isnull().sum()"
   ]
  },
  {
   "cell_type": "code",
   "execution_count": 30,
   "id": "2ab104cd",
   "metadata": {},
   "outputs": [
    {
     "data": {
      "text/plain": [
       "(4896, 11)"
      ]
     },
     "execution_count": 30,
     "metadata": {},
     "output_type": "execute_result"
    }
   ],
   "source": [
    "df1.shape"
   ]
  },
  {
   "cell_type": "code",
   "execution_count": 31,
   "id": "621e4b77",
   "metadata": {},
   "outputs": [],
   "source": [
    "df1.dropna(inplace=True)"
   ]
  },
  {
   "cell_type": "code",
   "execution_count": 32,
   "id": "1647d12c",
   "metadata": {},
   "outputs": [
    {
     "data": {
      "text/plain": [
       "(4701, 11)"
      ]
     },
     "execution_count": 32,
     "metadata": {},
     "output_type": "execute_result"
    }
   ],
   "source": [
    "df1.shape"
   ]
  },
  {
   "cell_type": "code",
   "execution_count": 33,
   "id": "1b5fecb9",
   "metadata": {},
   "outputs": [
    {
     "data": {
      "text/plain": [
       "array(['Manual', 'Automatic'], dtype=object)"
      ]
     },
     "execution_count": 33,
     "metadata": {},
     "output_type": "execute_result"
    }
   ],
   "source": [
    "df1['type'] = df1['type'].apply(lambda x: x.capitalize())\n",
    "df1.type.unique()"
   ]
  },
  {
   "cell_type": "code",
   "execution_count": 97,
   "id": "fbf53044",
   "metadata": {},
   "outputs": [
    {
     "data": {
      "text/html": [
       "<div>\n",
       "<style scoped>\n",
       "    .dataframe tbody tr th:only-of-type {\n",
       "        vertical-align: middle;\n",
       "    }\n",
       "\n",
       "    .dataframe tbody tr th {\n",
       "        vertical-align: top;\n",
       "    }\n",
       "\n",
       "    .dataframe thead th {\n",
       "        text-align: right;\n",
       "    }\n",
       "</style>\n",
       "<table border=\"1\" class=\"dataframe\">\n",
       "  <thead>\n",
       "    <tr style=\"text-align: right;\">\n",
       "      <th></th>\n",
       "      <th>Unnamed: 0</th>\n",
       "      <th>manufactured</th>\n",
       "      <th>brand</th>\n",
       "      <th>varient</th>\n",
       "      <th>owner</th>\n",
       "      <th>fuel</th>\n",
       "      <th>type</th>\n",
       "      <th>kms</th>\n",
       "      <th>price</th>\n",
       "      <th>city</th>\n",
       "      <th>owners</th>\n",
       "    </tr>\n",
       "  </thead>\n",
       "  <tbody>\n",
       "    <tr>\n",
       "      <th>0</th>\n",
       "      <td>0</td>\n",
       "      <td>2012</td>\n",
       "      <td>Maruti</td>\n",
       "      <td>Swift dzire</td>\n",
       "      <td>1st</td>\n",
       "      <td>Diesel</td>\n",
       "      <td>Manual</td>\n",
       "      <td>1,18,117</td>\n",
       "      <td>316399</td>\n",
       "      <td>New Delhi</td>\n",
       "      <td>1</td>\n",
       "    </tr>\n",
       "    <tr>\n",
       "      <th>1</th>\n",
       "      <td>1</td>\n",
       "      <td>2013</td>\n",
       "      <td>Maruti</td>\n",
       "      <td>Swift</td>\n",
       "      <td>1st</td>\n",
       "      <td>Diesel</td>\n",
       "      <td>Manual</td>\n",
       "      <td>1,14,506</td>\n",
       "      <td>341599</td>\n",
       "      <td>New Delhi</td>\n",
       "      <td>1</td>\n",
       "    </tr>\n",
       "    <tr>\n",
       "      <th>2</th>\n",
       "      <td>2</td>\n",
       "      <td>2014</td>\n",
       "      <td>Maruti</td>\n",
       "      <td>Ritz</td>\n",
       "      <td>1st</td>\n",
       "      <td>Diesel</td>\n",
       "      <td>Manual</td>\n",
       "      <td>43,382</td>\n",
       "      <td>344199</td>\n",
       "      <td>New Delhi</td>\n",
       "      <td>1</td>\n",
       "    </tr>\n",
       "  </tbody>\n",
       "</table>\n",
       "</div>"
      ],
      "text/plain": [
       "   Unnamed: 0  manufactured   brand      varient owner    fuel    type  \\\n",
       "0           0          2012  Maruti  Swift dzire   1st  Diesel  Manual   \n",
       "1           1          2013  Maruti        Swift   1st  Diesel  Manual   \n",
       "2           2          2014  Maruti         Ritz   1st  Diesel  Manual   \n",
       "\n",
       "        kms   price       city owners  \n",
       "0  1,18,117  316399  New Delhi      1  \n",
       "1  1,14,506  341599  New Delhi      1  \n",
       "2    43,382  344199  New Delhi      1  "
      ]
     },
     "execution_count": 97,
     "metadata": {},
     "output_type": "execute_result"
    }
   ],
   "source": [
    "df2 = df1.copy()\n",
    "df2['kms'] = df2['kms'].apply(lambda x: x.split(' ')[0])\n",
    "df2.head(3)"
   ]
  },
  {
   "cell_type": "code",
   "execution_count": 98,
   "id": "41ea6752",
   "metadata": {},
   "outputs": [],
   "source": [
    "df2['kms'] = df2['kms'].apply(lambda x: x.replace(',',''))\n",
    "df2['kms'] = df2['kms'].astype('int64')"
   ]
  },
  {
   "cell_type": "code",
   "execution_count": 99,
   "id": "b5eea884",
   "metadata": {},
   "outputs": [],
   "source": [
    "df2['price'] = df2['price'].apply(lambda x: x.replace(',',''))\n",
    "df2['price'] = df2['price'].astype('int64')"
   ]
  },
  {
   "cell_type": "code",
   "execution_count": 100,
   "id": "506f77df",
   "metadata": {},
   "outputs": [
    {
     "data": {
      "text/plain": [
       "array(['New Delhi', 'Noida', 'Gurgaon', 'Mumbai', 'Pune', 'Bengaluru',\n",
       "       'Hyderabad', 'Chennai', 'Kolkata', 'Ahmedabad', 'ahmedabad',\n",
       "       'bangalore', 'chennai', 'delhi-ncr', 'gurgaon', 'hyderabad',\n",
       "       'jaipur', 'kolkata', 'mumbai', 'new-delhi', 'noida'], dtype=object)"
      ]
     },
     "execution_count": 100,
     "metadata": {},
     "output_type": "execute_result"
    }
   ],
   "source": [
    "df2.city.unique()"
   ]
  },
  {
   "cell_type": "code",
   "execution_count": 101,
   "id": "5c3b6a78",
   "metadata": {},
   "outputs": [
    {
     "data": {
      "text/plain": [
       "array(['New delhi', 'Noida', 'Gurgaon', 'Mumbai', 'Pune', 'Bengaluru',\n",
       "       'Hyderabad', 'Chennai', 'Kolkata', 'Ahmedabad', 'Bangalore',\n",
       "       'Delhi-ncr', 'Jaipur', 'New-delhi'], dtype=object)"
      ]
     },
     "execution_count": 101,
     "metadata": {},
     "output_type": "execute_result"
    }
   ],
   "source": [
    "df2['city'] = df2['city'].apply(lambda x: x.capitalize())\n",
    "df2.city.unique()"
   ]
  },
  {
   "cell_type": "code",
   "execution_count": 102,
   "id": "a96c6fa7",
   "metadata": {},
   "outputs": [
    {
     "data": {
      "text/plain": [
       "array(['Delhi', 'Noida', 'Gurgaon', 'Mumbai', 'Pune', 'Bengaluru',\n",
       "       'Hyderabad', 'Chennai', 'Kolkata', 'Ahmedabad', 'Bangalore',\n",
       "       'Jaipur'], dtype=object)"
      ]
     },
     "execution_count": 102,
     "metadata": {},
     "output_type": "execute_result"
    }
   ],
   "source": [
    "df3 = df2.copy()\n",
    "df3['city'] = df3['city'].apply(lambda x: 'Delhi' if 'delhi' in str(x).lower() else x)\n",
    "df3.city.unique()"
   ]
  },
  {
   "cell_type": "code",
   "execution_count": 103,
   "id": "f2cb9610",
   "metadata": {},
   "outputs": [
    {
     "data": {
      "text/plain": [
       "array(['Delhi', 'Noida', 'Gurgaon', 'Mumbai', 'Pune', 'Bangalore',\n",
       "       'Hyderabad', 'Chennai', 'Kolkata', 'Ahmedabad', 'Jaipur'],\n",
       "      dtype=object)"
      ]
     },
     "execution_count": 103,
     "metadata": {},
     "output_type": "execute_result"
    }
   ],
   "source": [
    "df3['city'] = df3['city'].apply(lambda x: x.replace('Bengaluru','Bangalore'))\n",
    "df3.city.unique()"
   ]
  },
  {
   "cell_type": "code",
   "execution_count": 104,
   "id": "51eb2239",
   "metadata": {},
   "outputs": [
    {
     "name": "stdout",
     "output_type": "stream",
     "text": [
      "<class 'pandas.core.frame.DataFrame'>\n",
      "Int64Index: 4701 entries, 0 to 5366\n",
      "Data columns (total 9 columns):\n",
      " #   Column        Non-Null Count  Dtype \n",
      "---  ------        --------------  ----- \n",
      " 0   manufactured  4701 non-null   int64 \n",
      " 1   brand         4701 non-null   object\n",
      " 2   varient       4701 non-null   object\n",
      " 3   fuel          4701 non-null   object\n",
      " 4   type          4701 non-null   object\n",
      " 5   kms           4701 non-null   int64 \n",
      " 6   price         4701 non-null   int64 \n",
      " 7   city          4701 non-null   object\n",
      " 8   owners        4701 non-null   object\n",
      "dtypes: int64(3), object(6)\n",
      "memory usage: 496.3+ KB\n"
     ]
    }
   ],
   "source": [
    "df3 = df3.drop(['Unnamed: 0','owner'],axis = 'columns')\n",
    "df3.info()"
   ]
  },
  {
   "cell_type": "code",
   "execution_count": 105,
   "id": "07137668",
   "metadata": {},
   "outputs": [
    {
     "data": {
      "text/plain": [
       "fuel\n",
       "CNG                2\n",
       "Diesel          1529\n",
       "Petrol          3139\n",
       "Petrol + CNG      30\n",
       "Petrol + LPG       1\n",
       "Name: fuel, dtype: int64"
      ]
     },
     "execution_count": 105,
     "metadata": {},
     "output_type": "execute_result"
    }
   ],
   "source": [
    "df3.groupby('fuel')['fuel'].agg('count')"
   ]
  },
  {
   "cell_type": "markdown",
   "id": "5a86e6bc",
   "metadata": {},
   "source": [
    "<b>The training data for CNG, Petrol+CNG and Petrol+LPG is very less, so I will convert the Petrol+CNG and Petrol+LPG ro Petrol category and remove CNG from the list.</b>"
   ]
  },
  {
   "cell_type": "code",
   "execution_count": 106,
   "id": "76159cca",
   "metadata": {},
   "outputs": [
    {
     "data": {
      "text/plain": [
       "(4701, 9)"
      ]
     },
     "execution_count": 106,
     "metadata": {},
     "output_type": "execute_result"
    }
   ],
   "source": [
    "df3.shape"
   ]
  },
  {
   "cell_type": "code",
   "execution_count": 107,
   "id": "18271f64",
   "metadata": {},
   "outputs": [],
   "source": [
    "df_to_drop = df3[df3['fuel'] == 'CNG'].index\n",
    "df3.drop(df_to_drop,inplace = True)"
   ]
  },
  {
   "cell_type": "code",
   "execution_count": 108,
   "id": "692ed81b",
   "metadata": {},
   "outputs": [
    {
     "data": {
      "text/plain": [
       "(4699, 9)"
      ]
     },
     "execution_count": 108,
     "metadata": {},
     "output_type": "execute_result"
    }
   ],
   "source": [
    "df3.shape"
   ]
  },
  {
   "cell_type": "code",
   "execution_count": 109,
   "id": "6c3974e5",
   "metadata": {},
   "outputs": [
    {
     "data": {
      "text/plain": [
       "array(['Diesel', 'Petrol'], dtype=object)"
      ]
     },
     "execution_count": 109,
     "metadata": {},
     "output_type": "execute_result"
    }
   ],
   "source": [
    "df3['fuel'] = df3.fuel.apply(lambda x: x.split(' ')[0])\n",
    "df3.fuel.unique()"
   ]
  },
  {
   "cell_type": "code",
   "execution_count": 110,
   "id": "a5eee4ba",
   "metadata": {
    "scrolled": true
   },
   "outputs": [],
   "source": [
    "brand_varient_df = df3.groupby(['brand','city','fuel','type','varient'])['varient'].agg('count').sort_values(ascending = False).reset_index(name = 'count')"
   ]
  },
  {
   "cell_type": "code",
   "execution_count": 111,
   "id": "de4a932b",
   "metadata": {},
   "outputs": [
    {
     "data": {
      "text/html": [
       "<div>\n",
       "<style scoped>\n",
       "    .dataframe tbody tr th:only-of-type {\n",
       "        vertical-align: middle;\n",
       "    }\n",
       "\n",
       "    .dataframe tbody tr th {\n",
       "        vertical-align: top;\n",
       "    }\n",
       "\n",
       "    .dataframe thead th {\n",
       "        text-align: right;\n",
       "    }\n",
       "</style>\n",
       "<table border=\"1\" class=\"dataframe\">\n",
       "  <thead>\n",
       "    <tr style=\"text-align: right;\">\n",
       "      <th></th>\n",
       "      <th>brand</th>\n",
       "      <th>city</th>\n",
       "      <th>fuel</th>\n",
       "      <th>type</th>\n",
       "      <th>varient</th>\n",
       "      <th>count</th>\n",
       "    </tr>\n",
       "  </thead>\n",
       "  <tbody>\n",
       "    <tr>\n",
       "      <th>0</th>\n",
       "      <td>Maruti</td>\n",
       "      <td>Mumbai</td>\n",
       "      <td>Diesel</td>\n",
       "      <td>Manual</td>\n",
       "      <td>Vitara brezza</td>\n",
       "      <td>62</td>\n",
       "    </tr>\n",
       "    <tr>\n",
       "      <th>1</th>\n",
       "      <td>Maruti</td>\n",
       "      <td>Gurgaon</td>\n",
       "      <td>Diesel</td>\n",
       "      <td>Manual</td>\n",
       "      <td>Swift</td>\n",
       "      <td>57</td>\n",
       "    </tr>\n",
       "    <tr>\n",
       "      <th>2</th>\n",
       "      <td>Maruti</td>\n",
       "      <td>Delhi</td>\n",
       "      <td>Diesel</td>\n",
       "      <td>Manual</td>\n",
       "      <td>Swift</td>\n",
       "      <td>57</td>\n",
       "    </tr>\n",
       "    <tr>\n",
       "      <th>3</th>\n",
       "      <td>Maruti</td>\n",
       "      <td>Noida</td>\n",
       "      <td>Diesel</td>\n",
       "      <td>Manual</td>\n",
       "      <td>Swift</td>\n",
       "      <td>57</td>\n",
       "    </tr>\n",
       "    <tr>\n",
       "      <th>4</th>\n",
       "      <td>Hyundai</td>\n",
       "      <td>Mumbai</td>\n",
       "      <td>Petrol</td>\n",
       "      <td>Manual</td>\n",
       "      <td>Elite i20</td>\n",
       "      <td>54</td>\n",
       "    </tr>\n",
       "  </tbody>\n",
       "</table>\n",
       "</div>"
      ],
      "text/plain": [
       "     brand     city    fuel    type        varient  count\n",
       "0   Maruti   Mumbai  Diesel  Manual  Vitara brezza     62\n",
       "1   Maruti  Gurgaon  Diesel  Manual          Swift     57\n",
       "2   Maruti    Delhi  Diesel  Manual          Swift     57\n",
       "3   Maruti    Noida  Diesel  Manual          Swift     57\n",
       "4  Hyundai   Mumbai  Petrol  Manual      Elite i20     54"
      ]
     },
     "execution_count": 111,
     "metadata": {},
     "output_type": "execute_result"
    }
   ],
   "source": [
    "brand_varient_df_greater_than_5 = brand_varient_df[brand_varient_df['count']>5]\n",
    "brand_varient_df_greater_than_5.head()\n"
   ]
  },
  {
   "cell_type": "code",
   "execution_count": 112,
   "id": "89dec66b",
   "metadata": {},
   "outputs": [
    {
     "data": {
      "text/html": [
       "<div>\n",
       "<style scoped>\n",
       "    .dataframe tbody tr th:only-of-type {\n",
       "        vertical-align: middle;\n",
       "    }\n",
       "\n",
       "    .dataframe tbody tr th {\n",
       "        vertical-align: top;\n",
       "    }\n",
       "\n",
       "    .dataframe thead th {\n",
       "        text-align: right;\n",
       "    }\n",
       "</style>\n",
       "<table border=\"1\" class=\"dataframe\">\n",
       "  <thead>\n",
       "    <tr style=\"text-align: right;\">\n",
       "      <th></th>\n",
       "      <th>manufactured</th>\n",
       "      <th>brand</th>\n",
       "      <th>varient</th>\n",
       "      <th>fuel</th>\n",
       "      <th>type</th>\n",
       "      <th>kms</th>\n",
       "      <th>price</th>\n",
       "      <th>city</th>\n",
       "      <th>owners</th>\n",
       "      <th>varients</th>\n",
       "    </tr>\n",
       "  </thead>\n",
       "  <tbody>\n",
       "    <tr>\n",
       "      <th>0</th>\n",
       "      <td>2012</td>\n",
       "      <td>Maruti</td>\n",
       "      <td>Swift dzire</td>\n",
       "      <td>Diesel</td>\n",
       "      <td>Manual</td>\n",
       "      <td>118117</td>\n",
       "      <td>316399</td>\n",
       "      <td>Delhi</td>\n",
       "      <td>1</td>\n",
       "      <td>Swift dzire</td>\n",
       "    </tr>\n",
       "    <tr>\n",
       "      <th>1</th>\n",
       "      <td>2013</td>\n",
       "      <td>Maruti</td>\n",
       "      <td>Swift</td>\n",
       "      <td>Diesel</td>\n",
       "      <td>Manual</td>\n",
       "      <td>114506</td>\n",
       "      <td>341599</td>\n",
       "      <td>Delhi</td>\n",
       "      <td>1</td>\n",
       "      <td>Swift</td>\n",
       "    </tr>\n",
       "    <tr>\n",
       "      <th>2</th>\n",
       "      <td>2014</td>\n",
       "      <td>Maruti</td>\n",
       "      <td>Ritz</td>\n",
       "      <td>Diesel</td>\n",
       "      <td>Manual</td>\n",
       "      <td>43382</td>\n",
       "      <td>344199</td>\n",
       "      <td>Delhi</td>\n",
       "      <td>1</td>\n",
       "      <td>Ritz</td>\n",
       "    </tr>\n",
       "    <tr>\n",
       "      <th>3</th>\n",
       "      <td>2013</td>\n",
       "      <td>Hyundai</td>\n",
       "      <td>I20</td>\n",
       "      <td>Diesel</td>\n",
       "      <td>Manual</td>\n",
       "      <td>64361</td>\n",
       "      <td>355799</td>\n",
       "      <td>Delhi</td>\n",
       "      <td>1</td>\n",
       "      <td>I20</td>\n",
       "    </tr>\n",
       "    <tr>\n",
       "      <th>4</th>\n",
       "      <td>2014</td>\n",
       "      <td>Maruti</td>\n",
       "      <td>Swift</td>\n",
       "      <td>Petrol</td>\n",
       "      <td>Manual</td>\n",
       "      <td>107206</td>\n",
       "      <td>401599</td>\n",
       "      <td>Delhi</td>\n",
       "      <td>1</td>\n",
       "      <td>Swift</td>\n",
       "    </tr>\n",
       "  </tbody>\n",
       "</table>\n",
       "</div>"
      ],
      "text/plain": [
       "   manufactured    brand      varient    fuel    type     kms   price   city  \\\n",
       "0          2012   Maruti  Swift dzire  Diesel  Manual  118117  316399  Delhi   \n",
       "1          2013   Maruti        Swift  Diesel  Manual  114506  341599  Delhi   \n",
       "2          2014   Maruti         Ritz  Diesel  Manual   43382  344199  Delhi   \n",
       "3          2013  Hyundai          I20  Diesel  Manual   64361  355799  Delhi   \n",
       "4          2014   Maruti        Swift  Petrol  Manual  107206  401599  Delhi   \n",
       "\n",
       "  owners     varients  \n",
       "0      1  Swift dzire  \n",
       "1      1        Swift  \n",
       "2      1         Ritz  \n",
       "3      1          I20  \n",
       "4      1        Swift  "
      ]
     },
     "execution_count": 112,
     "metadata": {},
     "output_type": "execute_result"
    }
   ],
   "source": [
    "df4 = df3.copy()\n",
    "df4['varients'] = df4['varient'].apply(lambda x: x if x in brand_varient_df_greater_than_5['varient'].unique() else 'other')\n",
    "df4.head()"
   ]
  },
  {
   "cell_type": "code",
   "execution_count": 113,
   "id": "513601ba",
   "metadata": {},
   "outputs": [
    {
     "data": {
      "text/plain": [
       "(4699, 10)"
      ]
     },
     "execution_count": 113,
     "metadata": {},
     "output_type": "execute_result"
    }
   ],
   "source": [
    "df4.shape"
   ]
  },
  {
   "cell_type": "code",
   "execution_count": 114,
   "id": "177b778a",
   "metadata": {},
   "outputs": [],
   "source": [
    "df4 = df4[df4['varients'] != 'other']"
   ]
  },
  {
   "cell_type": "code",
   "execution_count": 115,
   "id": "46e63bf1",
   "metadata": {},
   "outputs": [
    {
     "data": {
      "text/plain": [
       "(4173, 10)"
      ]
     },
     "execution_count": 115,
     "metadata": {},
     "output_type": "execute_result"
    }
   ],
   "source": [
    "df4.shape"
   ]
  },
  {
   "cell_type": "code",
   "execution_count": 116,
   "id": "41257723",
   "metadata": {},
   "outputs": [],
   "source": [
    "df4.drop(['varient'],axis = 'columns',inplace = True)"
   ]
  },
  {
   "cell_type": "code",
   "execution_count": 117,
   "id": "305a12b5",
   "metadata": {},
   "outputs": [
    {
     "data": {
      "text/html": [
       "<div>\n",
       "<style scoped>\n",
       "    .dataframe tbody tr th:only-of-type {\n",
       "        vertical-align: middle;\n",
       "    }\n",
       "\n",
       "    .dataframe tbody tr th {\n",
       "        vertical-align: top;\n",
       "    }\n",
       "\n",
       "    .dataframe thead th {\n",
       "        text-align: right;\n",
       "    }\n",
       "</style>\n",
       "<table border=\"1\" class=\"dataframe\">\n",
       "  <thead>\n",
       "    <tr style=\"text-align: right;\">\n",
       "      <th></th>\n",
       "      <th>manufactured</th>\n",
       "      <th>brand</th>\n",
       "      <th>fuel</th>\n",
       "      <th>type</th>\n",
       "      <th>kms</th>\n",
       "      <th>price</th>\n",
       "      <th>city</th>\n",
       "      <th>owners</th>\n",
       "      <th>varients</th>\n",
       "    </tr>\n",
       "  </thead>\n",
       "  <tbody>\n",
       "    <tr>\n",
       "      <th>0</th>\n",
       "      <td>2012</td>\n",
       "      <td>Maruti</td>\n",
       "      <td>Diesel</td>\n",
       "      <td>Manual</td>\n",
       "      <td>118117</td>\n",
       "      <td>316399</td>\n",
       "      <td>Delhi</td>\n",
       "      <td>1</td>\n",
       "      <td>Swift dzire</td>\n",
       "    </tr>\n",
       "    <tr>\n",
       "      <th>1</th>\n",
       "      <td>2013</td>\n",
       "      <td>Maruti</td>\n",
       "      <td>Diesel</td>\n",
       "      <td>Manual</td>\n",
       "      <td>114506</td>\n",
       "      <td>341599</td>\n",
       "      <td>Delhi</td>\n",
       "      <td>1</td>\n",
       "      <td>Swift</td>\n",
       "    </tr>\n",
       "    <tr>\n",
       "      <th>2</th>\n",
       "      <td>2014</td>\n",
       "      <td>Maruti</td>\n",
       "      <td>Diesel</td>\n",
       "      <td>Manual</td>\n",
       "      <td>43382</td>\n",
       "      <td>344199</td>\n",
       "      <td>Delhi</td>\n",
       "      <td>1</td>\n",
       "      <td>Ritz</td>\n",
       "    </tr>\n",
       "  </tbody>\n",
       "</table>\n",
       "</div>"
      ],
      "text/plain": [
       "   manufactured   brand    fuel    type     kms   price   city owners  \\\n",
       "0          2012  Maruti  Diesel  Manual  118117  316399  Delhi      1   \n",
       "1          2013  Maruti  Diesel  Manual  114506  341599  Delhi      1   \n",
       "2          2014  Maruti  Diesel  Manual   43382  344199  Delhi      1   \n",
       "\n",
       "      varients  \n",
       "0  Swift dzire  \n",
       "1        Swift  \n",
       "2         Ritz  "
      ]
     },
     "execution_count": 117,
     "metadata": {},
     "output_type": "execute_result"
    }
   ],
   "source": [
    "df4.head(3)"
   ]
  },
  {
   "cell_type": "code",
   "execution_count": 118,
   "id": "3335291e",
   "metadata": {},
   "outputs": [
    {
     "data": {
      "text/html": [
       "<div>\n",
       "<style scoped>\n",
       "    .dataframe tbody tr th:only-of-type {\n",
       "        vertical-align: middle;\n",
       "    }\n",
       "\n",
       "    .dataframe tbody tr th {\n",
       "        vertical-align: top;\n",
       "    }\n",
       "\n",
       "    .dataframe thead th {\n",
       "        text-align: right;\n",
       "    }\n",
       "</style>\n",
       "<table border=\"1\" class=\"dataframe\">\n",
       "  <thead>\n",
       "    <tr style=\"text-align: right;\">\n",
       "      <th></th>\n",
       "      <th>manufactured</th>\n",
       "      <th>kms</th>\n",
       "      <th>price</th>\n",
       "    </tr>\n",
       "  </thead>\n",
       "  <tbody>\n",
       "    <tr>\n",
       "      <th>count</th>\n",
       "      <td>4173.000000</td>\n",
       "      <td>4173.000000</td>\n",
       "      <td>4.173000e+03</td>\n",
       "    </tr>\n",
       "    <tr>\n",
       "      <th>mean</th>\n",
       "      <td>2016.195782</td>\n",
       "      <td>46029.475437</td>\n",
       "      <td>5.614645e+05</td>\n",
       "    </tr>\n",
       "    <tr>\n",
       "      <th>std</th>\n",
       "      <td>2.275650</td>\n",
       "      <td>32662.636394</td>\n",
       "      <td>2.463620e+05</td>\n",
       "    </tr>\n",
       "    <tr>\n",
       "      <th>min</th>\n",
       "      <td>2005.000000</td>\n",
       "      <td>63.000000</td>\n",
       "      <td>1.263990e+05</td>\n",
       "    </tr>\n",
       "    <tr>\n",
       "      <th>25%</th>\n",
       "      <td>2015.000000</td>\n",
       "      <td>21555.000000</td>\n",
       "      <td>3.917990e+05</td>\n",
       "    </tr>\n",
       "    <tr>\n",
       "      <th>50%</th>\n",
       "      <td>2017.000000</td>\n",
       "      <td>38526.000000</td>\n",
       "      <td>5.072990e+05</td>\n",
       "    </tr>\n",
       "    <tr>\n",
       "      <th>75%</th>\n",
       "      <td>2018.000000</td>\n",
       "      <td>63459.000000</td>\n",
       "      <td>6.729990e+05</td>\n",
       "    </tr>\n",
       "    <tr>\n",
       "      <th>max</th>\n",
       "      <td>2021.000000</td>\n",
       "      <td>242900.000000</td>\n",
       "      <td>2.200000e+06</td>\n",
       "    </tr>\n",
       "  </tbody>\n",
       "</table>\n",
       "</div>"
      ],
      "text/plain": [
       "       manufactured            kms         price\n",
       "count   4173.000000    4173.000000  4.173000e+03\n",
       "mean    2016.195782   46029.475437  5.614645e+05\n",
       "std        2.275650   32662.636394  2.463620e+05\n",
       "min     2005.000000      63.000000  1.263990e+05\n",
       "25%     2015.000000   21555.000000  3.917990e+05\n",
       "50%     2017.000000   38526.000000  5.072990e+05\n",
       "75%     2018.000000   63459.000000  6.729990e+05\n",
       "max     2021.000000  242900.000000  2.200000e+06"
      ]
     },
     "execution_count": 118,
     "metadata": {},
     "output_type": "execute_result"
    }
   ],
   "source": [
    "df4.describe()"
   ]
  },
  {
   "cell_type": "code",
   "execution_count": 119,
   "id": "c3f8d540",
   "metadata": {},
   "outputs": [],
   "source": [
    "#Bin the kms columns and create a central tendancy data for every car every year at a dap of 30k or 50k kms"
   ]
  },
  {
   "cell_type": "code",
   "execution_count": 120,
   "id": "29962013",
   "metadata": {},
   "outputs": [
    {
     "name": "stderr",
     "output_type": "stream",
     "text": [
      "/var/folders/f4/k3f9xmcn7fj7ybjldy_7gnpw0000gn/T/ipykernel_53522/3299325882.py:1: UserWarning: Boolean Series key will be reindexed to match DataFrame index.\n",
      "  df_varient_data_spread = df4[df['varient'] == 'Swift']\n"
     ]
    },
    {
     "data": {
      "image/png": "[encoded data removed]",
      "text/plain": [
       "<Figure size 640x480 with 1 Axes>"
      ]
     },
     "metadata": {},
     "output_type": "display_data"
    }
   ],
   "source": [
    "df_varient_data_spread = df4[df['varient'] == 'Swift']\n",
    "import matplotlib.pyplot as plt\n",
    "%matplotlib inline\n",
    "fig,ax = plt.subplots()\n",
    "scatter = ax.scatter(x='kms', y='price',c ='manufactured',data=df_varient_data_spread)\n",
    "plt.xlabel('Total kms')\n",
    "plt.ylabel('Price')\n",
    "legend = ax.legend(*scatter.legend_elements(),loc = \"upper right\", title = 'year')\n",
    "plt.show()"
   ]
  },
  {
   "cell_type": "code",
   "execution_count": 121,
   "id": "c2ea1e36",
   "metadata": {},
   "outputs": [
    {
     "data": {
      "text/plain": [
       "brand   manufactured  varients\n",
       "Maruti  2014          Swift       93\n",
       "        2015          Swift       81\n",
       "        2016          Baleno      81\n",
       "        2013          Swift       77\n",
       "Ford    2018          Ecosport    77\n",
       "                                  ..\n",
       "Maruti  2020          Celerio      1\n",
       "                      Ciaz         1\n",
       "        2021          Baleno       1\n",
       "Mg      2021          Hector       1\n",
       "Maruti  2019          Ciaz         1\n",
       "Name: varients, Length: 278, dtype: int64"
      ]
     },
     "execution_count": 121,
     "metadata": {},
     "output_type": "execute_result"
    }
   ],
   "source": [
    "df4.groupby(['brand','manufactured','varients'])['varients'].agg('count').sort_values(ascending = False)"
   ]
  },
  {
   "cell_type": "code",
   "execution_count": 122,
   "id": "201b80bf",
   "metadata": {},
   "outputs": [
    {
     "data": {
      "image/png": "[encoded data removed]",
      "text/plain": [
       "<Figure size 640x480 with 1 Axes>"
      ]
     },
     "metadata": {},
     "output_type": "display_data"
    }
   ],
   "source": [
    "def comparison_scatter_kms_price_varient(df,varient,prev_year,curr_year):\n",
    "    df_prev_year = df[(df['manufactured'] == prev_year) & (df['varients'] == varient)]\n",
    "    df_curr_year = df[(df['manufactured'] == curr_year) & (df['varients'] == varient)]\n",
    "    fig,ax = plt.subplots()\n",
    "    ax.scatter(x='kms',y='price',data=df_prev_year,color = 'red', marker = '+', label = prev_year)\n",
    "    ax.scatter(x='kms',y='price',data=df_curr_year,color = 'green', marker = 'o', label = curr_year)\n",
    "    ax.legend()\n",
    "    \n",
    "comparison_scatter_kms_price_varient(df4,'Swift',2014,2015)"
   ]
  },
  {
   "cell_type": "code",
   "execution_count": 123,
   "id": "c8619e14",
   "metadata": {},
   "outputs": [
    {
     "data": {
      "text/html": [
       "<div>\n",
       "<style scoped>\n",
       "    .dataframe tbody tr th:only-of-type {\n",
       "        vertical-align: middle;\n",
       "    }\n",
       "\n",
       "    .dataframe tbody tr th {\n",
       "        vertical-align: top;\n",
       "    }\n",
       "\n",
       "    .dataframe thead th {\n",
       "        text-align: right;\n",
       "    }\n",
       "</style>\n",
       "<table border=\"1\" class=\"dataframe\">\n",
       "  <thead>\n",
       "    <tr style=\"text-align: right;\">\n",
       "      <th></th>\n",
       "      <th>manufactured</th>\n",
       "      <th>brand</th>\n",
       "      <th>fuel</th>\n",
       "      <th>type</th>\n",
       "      <th>kms</th>\n",
       "      <th>price</th>\n",
       "      <th>city</th>\n",
       "      <th>owners</th>\n",
       "      <th>varients</th>\n",
       "      <th>car_life</th>\n",
       "      <th>avg_kms_per_year</th>\n",
       "    </tr>\n",
       "  </thead>\n",
       "  <tbody>\n",
       "    <tr>\n",
       "      <th>0</th>\n",
       "      <td>2012</td>\n",
       "      <td>Maruti</td>\n",
       "      <td>Diesel</td>\n",
       "      <td>Manual</td>\n",
       "      <td>118117</td>\n",
       "      <td>316399</td>\n",
       "      <td>Delhi</td>\n",
       "      <td>1</td>\n",
       "      <td>Swift dzire</td>\n",
       "      <td>10</td>\n",
       "      <td>11812.0</td>\n",
       "    </tr>\n",
       "    <tr>\n",
       "      <th>1</th>\n",
       "      <td>2013</td>\n",
       "      <td>Maruti</td>\n",
       "      <td>Diesel</td>\n",
       "      <td>Manual</td>\n",
       "      <td>114506</td>\n",
       "      <td>341599</td>\n",
       "      <td>Delhi</td>\n",
       "      <td>1</td>\n",
       "      <td>Swift</td>\n",
       "      <td>9</td>\n",
       "      <td>12723.0</td>\n",
       "    </tr>\n",
       "    <tr>\n",
       "      <th>2</th>\n",
       "      <td>2014</td>\n",
       "      <td>Maruti</td>\n",
       "      <td>Diesel</td>\n",
       "      <td>Manual</td>\n",
       "      <td>43382</td>\n",
       "      <td>344199</td>\n",
       "      <td>Delhi</td>\n",
       "      <td>1</td>\n",
       "      <td>Ritz</td>\n",
       "      <td>8</td>\n",
       "      <td>5423.0</td>\n",
       "    </tr>\n",
       "  </tbody>\n",
       "</table>\n",
       "</div>"
      ],
      "text/plain": [
       "   manufactured   brand    fuel    type     kms   price   city owners  \\\n",
       "0          2012  Maruti  Diesel  Manual  118117  316399  Delhi      1   \n",
       "1          2013  Maruti  Diesel  Manual  114506  341599  Delhi      1   \n",
       "2          2014  Maruti  Diesel  Manual   43382  344199  Delhi      1   \n",
       "\n",
       "      varients  car_life  avg_kms_per_year  \n",
       "0  Swift dzire        10           11812.0  \n",
       "1        Swift         9           12723.0  \n",
       "2         Ritz         8            5423.0  "
      ]
     },
     "execution_count": 123,
     "metadata": {},
     "output_type": "execute_result"
    }
   ],
   "source": [
    "df4['car_life'] = 2022 - df4['manufactured']\n",
    "df4['avg_kms_per_year'] = (df4['kms']/df4['car_life']).round(0)\n",
    "df4.head(3)"
   ]
  },
  {
   "cell_type": "code",
   "execution_count": 124,
   "id": "46bcceb7",
   "metadata": {},
   "outputs": [
    {
     "data": {
      "text/plain": [
       "62433.0"
      ]
     },
     "execution_count": 124,
     "metadata": {},
     "output_type": "execute_result"
    }
   ],
   "source": [
    "df4.avg_kms_per_year.max()"
   ]
  },
  {
   "cell_type": "code",
   "execution_count": 125,
   "id": "415a5406",
   "metadata": {
    "scrolled": true
   },
   "outputs": [
    {
     "data": {
      "text/html": [
       "<div>\n",
       "<style scoped>\n",
       "    .dataframe tbody tr th:only-of-type {\n",
       "        vertical-align: middle;\n",
       "    }\n",
       "\n",
       "    .dataframe tbody tr th {\n",
       "        vertical-align: top;\n",
       "    }\n",
       "\n",
       "    .dataframe thead th {\n",
       "        text-align: right;\n",
       "    }\n",
       "</style>\n",
       "<table border=\"1\" class=\"dataframe\">\n",
       "  <thead>\n",
       "    <tr style=\"text-align: right;\">\n",
       "      <th></th>\n",
       "      <th>manufactured</th>\n",
       "      <th>brand</th>\n",
       "      <th>fuel</th>\n",
       "      <th>type</th>\n",
       "      <th>kms</th>\n",
       "      <th>price</th>\n",
       "      <th>city</th>\n",
       "      <th>owners</th>\n",
       "      <th>varients</th>\n",
       "      <th>car_life</th>\n",
       "      <th>avg_kms_per_year</th>\n",
       "    </tr>\n",
       "  </thead>\n",
       "  <tbody>\n",
       "    <tr>\n",
       "      <th>171</th>\n",
       "      <td>2015</td>\n",
       "      <td>Honda</td>\n",
       "      <td>Diesel</td>\n",
       "      <td>Manual</td>\n",
       "      <td>193704</td>\n",
       "      <td>488999</td>\n",
       "      <td>Delhi</td>\n",
       "      <td>2</td>\n",
       "      <td>City</td>\n",
       "      <td>7</td>\n",
       "      <td>27672.0</td>\n",
       "    </tr>\n",
       "    <tr>\n",
       "      <th>248</th>\n",
       "      <td>2019</td>\n",
       "      <td>Maruti</td>\n",
       "      <td>Diesel</td>\n",
       "      <td>Manual</td>\n",
       "      <td>75243</td>\n",
       "      <td>778199</td>\n",
       "      <td>Delhi</td>\n",
       "      <td>1</td>\n",
       "      <td>Vitara brezza</td>\n",
       "      <td>3</td>\n",
       "      <td>25081.0</td>\n",
       "    </tr>\n",
       "    <tr>\n",
       "      <th>306</th>\n",
       "      <td>2018</td>\n",
       "      <td>Maruti</td>\n",
       "      <td>Diesel</td>\n",
       "      <td>Manual</td>\n",
       "      <td>112703</td>\n",
       "      <td>714599</td>\n",
       "      <td>Delhi</td>\n",
       "      <td>1</td>\n",
       "      <td>Vitara brezza</td>\n",
       "      <td>4</td>\n",
       "      <td>28176.0</td>\n",
       "    </tr>\n",
       "    <tr>\n",
       "      <th>432</th>\n",
       "      <td>2016</td>\n",
       "      <td>Maruti</td>\n",
       "      <td>Diesel</td>\n",
       "      <td>Manual</td>\n",
       "      <td>168380</td>\n",
       "      <td>559299</td>\n",
       "      <td>Delhi</td>\n",
       "      <td>1</td>\n",
       "      <td>Ciaz</td>\n",
       "      <td>6</td>\n",
       "      <td>28063.0</td>\n",
       "    </tr>\n",
       "    <tr>\n",
       "      <th>671</th>\n",
       "      <td>2015</td>\n",
       "      <td>Honda</td>\n",
       "      <td>Diesel</td>\n",
       "      <td>Manual</td>\n",
       "      <td>193704</td>\n",
       "      <td>488999</td>\n",
       "      <td>Noida</td>\n",
       "      <td>2</td>\n",
       "      <td>City</td>\n",
       "      <td>7</td>\n",
       "      <td>27672.0</td>\n",
       "    </tr>\n",
       "    <tr>\n",
       "      <th>748</th>\n",
       "      <td>2019</td>\n",
       "      <td>Maruti</td>\n",
       "      <td>Diesel</td>\n",
       "      <td>Manual</td>\n",
       "      <td>75243</td>\n",
       "      <td>778199</td>\n",
       "      <td>Noida</td>\n",
       "      <td>1</td>\n",
       "      <td>Vitara brezza</td>\n",
       "      <td>3</td>\n",
       "      <td>25081.0</td>\n",
       "    </tr>\n",
       "    <tr>\n",
       "      <th>806</th>\n",
       "      <td>2018</td>\n",
       "      <td>Maruti</td>\n",
       "      <td>Diesel</td>\n",
       "      <td>Manual</td>\n",
       "      <td>112703</td>\n",
       "      <td>714599</td>\n",
       "      <td>Noida</td>\n",
       "      <td>1</td>\n",
       "      <td>Vitara brezza</td>\n",
       "      <td>4</td>\n",
       "      <td>28176.0</td>\n",
       "    </tr>\n",
       "    <tr>\n",
       "      <th>932</th>\n",
       "      <td>2016</td>\n",
       "      <td>Maruti</td>\n",
       "      <td>Diesel</td>\n",
       "      <td>Manual</td>\n",
       "      <td>168380</td>\n",
       "      <td>559299</td>\n",
       "      <td>Noida</td>\n",
       "      <td>1</td>\n",
       "      <td>Ciaz</td>\n",
       "      <td>6</td>\n",
       "      <td>28063.0</td>\n",
       "    </tr>\n",
       "    <tr>\n",
       "      <th>1170</th>\n",
       "      <td>2015</td>\n",
       "      <td>Honda</td>\n",
       "      <td>Diesel</td>\n",
       "      <td>Manual</td>\n",
       "      <td>193704</td>\n",
       "      <td>488999</td>\n",
       "      <td>Gurgaon</td>\n",
       "      <td>2</td>\n",
       "      <td>City</td>\n",
       "      <td>7</td>\n",
       "      <td>27672.0</td>\n",
       "    </tr>\n",
       "    <tr>\n",
       "      <th>1247</th>\n",
       "      <td>2019</td>\n",
       "      <td>Maruti</td>\n",
       "      <td>Diesel</td>\n",
       "      <td>Manual</td>\n",
       "      <td>75243</td>\n",
       "      <td>778199</td>\n",
       "      <td>Gurgaon</td>\n",
       "      <td>1</td>\n",
       "      <td>Vitara brezza</td>\n",
       "      <td>3</td>\n",
       "      <td>25081.0</td>\n",
       "    </tr>\n",
       "    <tr>\n",
       "      <th>1305</th>\n",
       "      <td>2018</td>\n",
       "      <td>Maruti</td>\n",
       "      <td>Diesel</td>\n",
       "      <td>Manual</td>\n",
       "      <td>112703</td>\n",
       "      <td>714599</td>\n",
       "      <td>Gurgaon</td>\n",
       "      <td>1</td>\n",
       "      <td>Vitara brezza</td>\n",
       "      <td>4</td>\n",
       "      <td>28176.0</td>\n",
       "    </tr>\n",
       "    <tr>\n",
       "      <th>1432</th>\n",
       "      <td>2016</td>\n",
       "      <td>Maruti</td>\n",
       "      <td>Diesel</td>\n",
       "      <td>Manual</td>\n",
       "      <td>168380</td>\n",
       "      <td>559299</td>\n",
       "      <td>Gurgaon</td>\n",
       "      <td>1</td>\n",
       "      <td>Ciaz</td>\n",
       "      <td>6</td>\n",
       "      <td>28063.0</td>\n",
       "    </tr>\n",
       "    <tr>\n",
       "      <th>1997</th>\n",
       "      <td>2019</td>\n",
       "      <td>Hyundai</td>\n",
       "      <td>Diesel</td>\n",
       "      <td>Manual</td>\n",
       "      <td>95765</td>\n",
       "      <td>1030199</td>\n",
       "      <td>Mumbai</td>\n",
       "      <td>1</td>\n",
       "      <td>Venue</td>\n",
       "      <td>3</td>\n",
       "      <td>31922.0</td>\n",
       "    </tr>\n",
       "    <tr>\n",
       "      <th>2497</th>\n",
       "      <td>2019</td>\n",
       "      <td>Hyundai</td>\n",
       "      <td>Diesel</td>\n",
       "      <td>Manual</td>\n",
       "      <td>95765</td>\n",
       "      <td>1030199</td>\n",
       "      <td>Mumbai</td>\n",
       "      <td>1</td>\n",
       "      <td>Venue</td>\n",
       "      <td>3</td>\n",
       "      <td>31922.0</td>\n",
       "    </tr>\n",
       "    <tr>\n",
       "      <th>2739</th>\n",
       "      <td>2016</td>\n",
       "      <td>Maruti</td>\n",
       "      <td>Diesel</td>\n",
       "      <td>Manual</td>\n",
       "      <td>162864</td>\n",
       "      <td>545799</td>\n",
       "      <td>Pune</td>\n",
       "      <td>1</td>\n",
       "      <td>Baleno</td>\n",
       "      <td>6</td>\n",
       "      <td>27144.0</td>\n",
       "    </tr>\n",
       "    <tr>\n",
       "      <th>3328</th>\n",
       "      <td>2017</td>\n",
       "      <td>Maruti</td>\n",
       "      <td>Petrol</td>\n",
       "      <td>Manual</td>\n",
       "      <td>163696</td>\n",
       "      <td>380999</td>\n",
       "      <td>Bangalore</td>\n",
       "      <td>1</td>\n",
       "      <td>Celerio</td>\n",
       "      <td>5</td>\n",
       "      <td>32739.0</td>\n",
       "    </tr>\n",
       "    <tr>\n",
       "      <th>3450</th>\n",
       "      <td>2015</td>\n",
       "      <td>Maruti</td>\n",
       "      <td>Petrol</td>\n",
       "      <td>Manual</td>\n",
       "      <td>234695</td>\n",
       "      <td>296199</td>\n",
       "      <td>Hyderabad</td>\n",
       "      <td>1</td>\n",
       "      <td>Alto k10</td>\n",
       "      <td>7</td>\n",
       "      <td>33528.0</td>\n",
       "    </tr>\n",
       "    <tr>\n",
       "      <th>3472</th>\n",
       "      <td>2019</td>\n",
       "      <td>Toyota</td>\n",
       "      <td>Diesel</td>\n",
       "      <td>Manual</td>\n",
       "      <td>187298</td>\n",
       "      <td>1570499</td>\n",
       "      <td>Hyderabad</td>\n",
       "      <td>1</td>\n",
       "      <td>Innova crysta</td>\n",
       "      <td>3</td>\n",
       "      <td>62433.0</td>\n",
       "    </tr>\n",
       "    <tr>\n",
       "      <th>3606</th>\n",
       "      <td>2019</td>\n",
       "      <td>Hyundai</td>\n",
       "      <td>Diesel</td>\n",
       "      <td>Manual</td>\n",
       "      <td>94409</td>\n",
       "      <td>1014999</td>\n",
       "      <td>Chennai</td>\n",
       "      <td>1</td>\n",
       "      <td>Creta</td>\n",
       "      <td>3</td>\n",
       "      <td>31470.0</td>\n",
       "    </tr>\n",
       "    <tr>\n",
       "      <th>3641</th>\n",
       "      <td>2018</td>\n",
       "      <td>Maruti</td>\n",
       "      <td>Diesel</td>\n",
       "      <td>Automatic</td>\n",
       "      <td>113765</td>\n",
       "      <td>696099</td>\n",
       "      <td>Chennai</td>\n",
       "      <td>1</td>\n",
       "      <td>Swift</td>\n",
       "      <td>4</td>\n",
       "      <td>28441.0</td>\n",
       "    </tr>\n",
       "    <tr>\n",
       "      <th>3757</th>\n",
       "      <td>2018</td>\n",
       "      <td>Maruti</td>\n",
       "      <td>Diesel</td>\n",
       "      <td>Automatic</td>\n",
       "      <td>121087</td>\n",
       "      <td>552499</td>\n",
       "      <td>Chennai</td>\n",
       "      <td>1</td>\n",
       "      <td>Ignis</td>\n",
       "      <td>4</td>\n",
       "      <td>30272.0</td>\n",
       "    </tr>\n",
       "    <tr>\n",
       "      <th>3767</th>\n",
       "      <td>2016</td>\n",
       "      <td>Maruti</td>\n",
       "      <td>Diesel</td>\n",
       "      <td>Manual</td>\n",
       "      <td>166618</td>\n",
       "      <td>609499</td>\n",
       "      <td>Chennai</td>\n",
       "      <td>1</td>\n",
       "      <td>Swift dzire</td>\n",
       "      <td>6</td>\n",
       "      <td>27770.0</td>\n",
       "    </tr>\n",
       "    <tr>\n",
       "      <th>4310</th>\n",
       "      <td>2017</td>\n",
       "      <td>Maruti</td>\n",
       "      <td>Diesel</td>\n",
       "      <td>Manual</td>\n",
       "      <td>150666</td>\n",
       "      <td>741099</td>\n",
       "      <td>Ahmedabad</td>\n",
       "      <td>1</td>\n",
       "      <td>Vitara brezza</td>\n",
       "      <td>5</td>\n",
       "      <td>30133.0</td>\n",
       "    </tr>\n",
       "    <tr>\n",
       "      <th>4385</th>\n",
       "      <td>2017</td>\n",
       "      <td>Maruti</td>\n",
       "      <td>Diesel</td>\n",
       "      <td>Manual</td>\n",
       "      <td>140277</td>\n",
       "      <td>688099</td>\n",
       "      <td>Ahmedabad</td>\n",
       "      <td>1</td>\n",
       "      <td>Vitara brezza</td>\n",
       "      <td>5</td>\n",
       "      <td>28055.0</td>\n",
       "    </tr>\n",
       "    <tr>\n",
       "      <th>4455</th>\n",
       "      <td>2018</td>\n",
       "      <td>Hyundai</td>\n",
       "      <td>Diesel</td>\n",
       "      <td>Manual</td>\n",
       "      <td>241497</td>\n",
       "      <td>822999</td>\n",
       "      <td>Ahmedabad</td>\n",
       "      <td>1</td>\n",
       "      <td>Creta</td>\n",
       "      <td>4</td>\n",
       "      <td>60374.0</td>\n",
       "    </tr>\n",
       "    <tr>\n",
       "      <th>4487</th>\n",
       "      <td>2015</td>\n",
       "      <td>Maruti</td>\n",
       "      <td>Diesel</td>\n",
       "      <td>Manual</td>\n",
       "      <td>183063</td>\n",
       "      <td>404999</td>\n",
       "      <td>Ahmedabad</td>\n",
       "      <td>1</td>\n",
       "      <td>Swift</td>\n",
       "      <td>7</td>\n",
       "      <td>26152.0</td>\n",
       "    </tr>\n",
       "    <tr>\n",
       "      <th>4499</th>\n",
       "      <td>2018</td>\n",
       "      <td>Maruti</td>\n",
       "      <td>Diesel</td>\n",
       "      <td>Manual</td>\n",
       "      <td>108208</td>\n",
       "      <td>824999</td>\n",
       "      <td>Ahmedabad</td>\n",
       "      <td>1</td>\n",
       "      <td>Ertiga</td>\n",
       "      <td>4</td>\n",
       "      <td>27052.0</td>\n",
       "    </tr>\n",
       "    <tr>\n",
       "      <th>4531</th>\n",
       "      <td>2018</td>\n",
       "      <td>Ford</td>\n",
       "      <td>Diesel</td>\n",
       "      <td>Manual</td>\n",
       "      <td>131657</td>\n",
       "      <td>768399</td>\n",
       "      <td>Ahmedabad</td>\n",
       "      <td>1</td>\n",
       "      <td>Ecosport</td>\n",
       "      <td>4</td>\n",
       "      <td>32914.0</td>\n",
       "    </tr>\n",
       "    <tr>\n",
       "      <th>4580</th>\n",
       "      <td>2018</td>\n",
       "      <td>Maruti</td>\n",
       "      <td>Diesel</td>\n",
       "      <td>Manual</td>\n",
       "      <td>104921</td>\n",
       "      <td>757999</td>\n",
       "      <td>Ahmedabad</td>\n",
       "      <td>1</td>\n",
       "      <td>Vitara brezza</td>\n",
       "      <td>4</td>\n",
       "      <td>26230.0</td>\n",
       "    </tr>\n",
       "    <tr>\n",
       "      <th>4582</th>\n",
       "      <td>2017</td>\n",
       "      <td>Maruti</td>\n",
       "      <td>Diesel</td>\n",
       "      <td>Manual</td>\n",
       "      <td>146251</td>\n",
       "      <td>476599</td>\n",
       "      <td>Ahmedabad</td>\n",
       "      <td>1</td>\n",
       "      <td>Swift</td>\n",
       "      <td>5</td>\n",
       "      <td>29250.0</td>\n",
       "    </tr>\n",
       "    <tr>\n",
       "      <th>4603</th>\n",
       "      <td>2018</td>\n",
       "      <td>Maruti</td>\n",
       "      <td>Petrol</td>\n",
       "      <td>Manual</td>\n",
       "      <td>142263</td>\n",
       "      <td>304499</td>\n",
       "      <td>Ahmedabad</td>\n",
       "      <td>1</td>\n",
       "      <td>Alto 800</td>\n",
       "      <td>4</td>\n",
       "      <td>35566.0</td>\n",
       "    </tr>\n",
       "    <tr>\n",
       "      <th>4625</th>\n",
       "      <td>2018</td>\n",
       "      <td>Maruti</td>\n",
       "      <td>Diesel</td>\n",
       "      <td>Manual</td>\n",
       "      <td>154390</td>\n",
       "      <td>801399</td>\n",
       "      <td>Ahmedabad</td>\n",
       "      <td>1</td>\n",
       "      <td>Vitara brezza</td>\n",
       "      <td>4</td>\n",
       "      <td>38598.0</td>\n",
       "    </tr>\n",
       "    <tr>\n",
       "      <th>4636</th>\n",
       "      <td>2019</td>\n",
       "      <td>Maruti</td>\n",
       "      <td>Petrol</td>\n",
       "      <td>Manual</td>\n",
       "      <td>80770</td>\n",
       "      <td>461999</td>\n",
       "      <td>Ahmedabad</td>\n",
       "      <td>1</td>\n",
       "      <td>Eeco</td>\n",
       "      <td>3</td>\n",
       "      <td>26923.0</td>\n",
       "    </tr>\n",
       "    <tr>\n",
       "      <th>4653</th>\n",
       "      <td>2018</td>\n",
       "      <td>Maruti</td>\n",
       "      <td>Petrol</td>\n",
       "      <td>Manual</td>\n",
       "      <td>132012</td>\n",
       "      <td>590299</td>\n",
       "      <td>Ahmedabad</td>\n",
       "      <td>1</td>\n",
       "      <td>Baleno</td>\n",
       "      <td>4</td>\n",
       "      <td>33003.0</td>\n",
       "    </tr>\n",
       "  </tbody>\n",
       "</table>\n",
       "</div>"
      ],
      "text/plain": [
       "      manufactured    brand    fuel       type     kms    price       city  \\\n",
       "171           2015    Honda  Diesel     Manual  193704   488999      Delhi   \n",
       "248           2019   Maruti  Diesel     Manual   75243   778199      Delhi   \n",
       "306           2018   Maruti  Diesel     Manual  112703   714599      Delhi   \n",
       "432           2016   Maruti  Diesel     Manual  168380   559299      Delhi   \n",
       "671           2015    Honda  Diesel     Manual  193704   488999      Noida   \n",
       "748           2019   Maruti  Diesel     Manual   75243   778199      Noida   \n",
       "806           2018   Maruti  Diesel     Manual  112703   714599      Noida   \n",
       "932           2016   Maruti  Diesel     Manual  168380   559299      Noida   \n",
       "1170          2015    Honda  Diesel     Manual  193704   488999    Gurgaon   \n",
       "1247          2019   Maruti  Diesel     Manual   75243   778199    Gurgaon   \n",
       "1305          2018   Maruti  Diesel     Manual  112703   714599    Gurgaon   \n",
       "1432          2016   Maruti  Diesel     Manual  168380   559299    Gurgaon   \n",
       "1997          2019  Hyundai  Diesel     Manual   95765  1030199     Mumbai   \n",
       "2497          2019  Hyundai  Diesel     Manual   95765  1030199     Mumbai   \n",
       "2739          2016   Maruti  Diesel     Manual  162864   545799       Pune   \n",
       "3328          2017   Maruti  Petrol     Manual  163696   380999  Bangalore   \n",
       "3450          2015   Maruti  Petrol     Manual  234695   296199  Hyderabad   \n",
       "3472          2019   Toyota  Diesel     Manual  187298  1570499  Hyderabad   \n",
       "3606          2019  Hyundai  Diesel     Manual   94409  1014999    Chennai   \n",
       "3641          2018   Maruti  Diesel  Automatic  113765   696099    Chennai   \n",
       "3757          2018   Maruti  Diesel  Automatic  121087   552499    Chennai   \n",
       "3767          2016   Maruti  Diesel     Manual  166618   609499    Chennai   \n",
       "4310          2017   Maruti  Diesel     Manual  150666   741099  Ahmedabad   \n",
       "4385          2017   Maruti  Diesel     Manual  140277   688099  Ahmedabad   \n",
       "4455          2018  Hyundai  Diesel     Manual  241497   822999  Ahmedabad   \n",
       "4487          2015   Maruti  Diesel     Manual  183063   404999  Ahmedabad   \n",
       "4499          2018   Maruti  Diesel     Manual  108208   824999  Ahmedabad   \n",
       "4531          2018     Ford  Diesel     Manual  131657   768399  Ahmedabad   \n",
       "4580          2018   Maruti  Diesel     Manual  104921   757999  Ahmedabad   \n",
       "4582          2017   Maruti  Diesel     Manual  146251   476599  Ahmedabad   \n",
       "4603          2018   Maruti  Petrol     Manual  142263   304499  Ahmedabad   \n",
       "4625          2018   Maruti  Diesel     Manual  154390   801399  Ahmedabad   \n",
       "4636          2019   Maruti  Petrol     Manual   80770   461999  Ahmedabad   \n",
       "4653          2018   Maruti  Petrol     Manual  132012   590299  Ahmedabad   \n",
       "\n",
       "     owners       varients  car_life  avg_kms_per_year  \n",
       "171       2           City         7           27672.0  \n",
       "248       1  Vitara brezza         3           25081.0  \n",
       "306       1  Vitara brezza         4           28176.0  \n",
       "432       1           Ciaz         6           28063.0  \n",
       "671       2           City         7           27672.0  \n",
       "748       1  Vitara brezza         3           25081.0  \n",
       "806       1  Vitara brezza         4           28176.0  \n",
       "932       1           Ciaz         6           28063.0  \n",
       "1170      2           City         7           27672.0  \n",
       "1247      1  Vitara brezza         3           25081.0  \n",
       "1305      1  Vitara brezza         4           28176.0  \n",
       "1432      1           Ciaz         6           28063.0  \n",
       "1997      1          Venue         3           31922.0  \n",
       "2497      1          Venue         3           31922.0  \n",
       "2739      1         Baleno         6           27144.0  \n",
       "3328      1        Celerio         5           32739.0  \n",
       "3450      1       Alto k10         7           33528.0  \n",
       "3472      1  Innova crysta         3           62433.0  \n",
       "3606      1          Creta         3           31470.0  \n",
       "3641      1          Swift         4           28441.0  \n",
       "3757      1          Ignis         4           30272.0  \n",
       "3767      1    Swift dzire         6           27770.0  \n",
       "4310      1  Vitara brezza         5           30133.0  \n",
       "4385      1  Vitara brezza         5           28055.0  \n",
       "4455      1          Creta         4           60374.0  \n",
       "4487      1          Swift         7           26152.0  \n",
       "4499      1         Ertiga         4           27052.0  \n",
       "4531      1       Ecosport         4           32914.0  \n",
       "4580      1  Vitara brezza         4           26230.0  \n",
       "4582      1          Swift         5           29250.0  \n",
       "4603      1       Alto 800         4           35566.0  \n",
       "4625      1  Vitara brezza         4           38598.0  \n",
       "4636      1           Eeco         3           26923.0  \n",
       "4653      1         Baleno         4           33003.0  "
      ]
     },
     "execution_count": 125,
     "metadata": {},
     "output_type": "execute_result"
    }
   ],
   "source": [
    "df4[df4['avg_kms_per_year']>25000]"
   ]
  },
  {
   "cell_type": "code",
   "execution_count": 126,
   "id": "2d0b608c",
   "metadata": {},
   "outputs": [
    {
     "data": {
      "image/png": "[encoded data removed]",
      "text/plain": [
       "<Figure size 640x480 with 1 Axes>"
      ]
     },
     "metadata": {},
     "output_type": "display_data"
    }
   ],
   "source": [
    "def comparison_scatter_owner_price_varient(df,varient):\n",
    "    df_one_owner = df[(df['owners'] == '1') & (df['varients'] == varient)]\n",
    "    df_two_owner = df[(df['owners'] == '2') & (df['varients'] == varient)]\n",
    "    df_three_owner = df[(df['owners'] == '3') & (df['varients'] == varient)]\n",
    "    df_four_owner = df[(df['owners'] == '4') & (df['varients'] == varient)]\n",
    "    fig,ax = plt.subplots()\n",
    "    ax.scatter(x='avg_kms_per_year',y='price',data=df_one_owner,color = 'green', marker = '+', label = '1st Owner')\n",
    "    ax.scatter(x='avg_kms_per_year',y='price',data=df_two_owner,color = 'red', marker = 'o', label = '2nd Owner')\n",
    "    ax.scatter(x='avg_kms_per_year',y='price',data=df_three_owner,color = 'blue', marker = '^', label = '3rd Owner')\n",
    "    ax.scatter(x='avg_kms_per_year',y='price',data=df_four_owner,color = 'yellow', marker = '1', label = '4th Owner')\n",
    "    ax.legend()\n",
    "    \n",
    "comparison_scatter_owner_price_varient(df4,'Swift')"
   ]
  },
  {
   "cell_type": "code",
   "execution_count": 127,
   "id": "6218ed10",
   "metadata": {},
   "outputs": [
    {
     "data": {
      "text/html": [
       "<div>\n",
       "<style scoped>\n",
       "    .dataframe tbody tr th:only-of-type {\n",
       "        vertical-align: middle;\n",
       "    }\n",
       "\n",
       "    .dataframe tbody tr th {\n",
       "        vertical-align: top;\n",
       "    }\n",
       "\n",
       "    .dataframe thead th {\n",
       "        text-align: right;\n",
       "    }\n",
       "</style>\n",
       "<table border=\"1\" class=\"dataframe\">\n",
       "  <thead>\n",
       "    <tr style=\"text-align: right;\">\n",
       "      <th></th>\n",
       "      <th>manufactured</th>\n",
       "      <th>brand</th>\n",
       "      <th>fuel</th>\n",
       "      <th>type</th>\n",
       "      <th>kms</th>\n",
       "      <th>price</th>\n",
       "      <th>city</th>\n",
       "      <th>owners</th>\n",
       "      <th>varients</th>\n",
       "      <th>car_life</th>\n",
       "      <th>avg_kms_per_year</th>\n",
       "    </tr>\n",
       "  </thead>\n",
       "  <tbody>\n",
       "    <tr>\n",
       "      <th>0</th>\n",
       "      <td>2012</td>\n",
       "      <td>Maruti</td>\n",
       "      <td>Diesel</td>\n",
       "      <td>Manual</td>\n",
       "      <td>118117</td>\n",
       "      <td>316399</td>\n",
       "      <td>Delhi</td>\n",
       "      <td>1</td>\n",
       "      <td>Swift dzire</td>\n",
       "      <td>10</td>\n",
       "      <td>11812.0</td>\n",
       "    </tr>\n",
       "    <tr>\n",
       "      <th>1</th>\n",
       "      <td>2013</td>\n",
       "      <td>Maruti</td>\n",
       "      <td>Diesel</td>\n",
       "      <td>Manual</td>\n",
       "      <td>114506</td>\n",
       "      <td>341599</td>\n",
       "      <td>Delhi</td>\n",
       "      <td>1</td>\n",
       "      <td>Swift</td>\n",
       "      <td>9</td>\n",
       "      <td>12723.0</td>\n",
       "    </tr>\n",
       "    <tr>\n",
       "      <th>2</th>\n",
       "      <td>2014</td>\n",
       "      <td>Maruti</td>\n",
       "      <td>Diesel</td>\n",
       "      <td>Manual</td>\n",
       "      <td>43382</td>\n",
       "      <td>344199</td>\n",
       "      <td>Delhi</td>\n",
       "      <td>1</td>\n",
       "      <td>Ritz</td>\n",
       "      <td>8</td>\n",
       "      <td>5423.0</td>\n",
       "    </tr>\n",
       "    <tr>\n",
       "      <th>3</th>\n",
       "      <td>2013</td>\n",
       "      <td>Hyundai</td>\n",
       "      <td>Diesel</td>\n",
       "      <td>Manual</td>\n",
       "      <td>64361</td>\n",
       "      <td>355799</td>\n",
       "      <td>Delhi</td>\n",
       "      <td>1</td>\n",
       "      <td>I20</td>\n",
       "      <td>9</td>\n",
       "      <td>7151.0</td>\n",
       "    </tr>\n",
       "    <tr>\n",
       "      <th>4</th>\n",
       "      <td>2014</td>\n",
       "      <td>Maruti</td>\n",
       "      <td>Petrol</td>\n",
       "      <td>Manual</td>\n",
       "      <td>107206</td>\n",
       "      <td>401599</td>\n",
       "      <td>Delhi</td>\n",
       "      <td>1</td>\n",
       "      <td>Swift</td>\n",
       "      <td>8</td>\n",
       "      <td>13401.0</td>\n",
       "    </tr>\n",
       "  </tbody>\n",
       "</table>\n",
       "</div>"
      ],
      "text/plain": [
       "   manufactured    brand    fuel    type     kms   price   city owners  \\\n",
       "0          2012   Maruti  Diesel  Manual  118117  316399  Delhi      1   \n",
       "1          2013   Maruti  Diesel  Manual  114506  341599  Delhi      1   \n",
       "2          2014   Maruti  Diesel  Manual   43382  344199  Delhi      1   \n",
       "3          2013  Hyundai  Diesel  Manual   64361  355799  Delhi      1   \n",
       "4          2014   Maruti  Petrol  Manual  107206  401599  Delhi      1   \n",
       "\n",
       "      varients  car_life  avg_kms_per_year  \n",
       "0  Swift dzire        10           11812.0  \n",
       "1        Swift         9           12723.0  \n",
       "2         Ritz         8            5423.0  \n",
       "3          I20         9            7151.0  \n",
       "4        Swift         8           13401.0  "
      ]
     },
     "execution_count": 127,
     "metadata": {},
     "output_type": "execute_result"
    }
   ],
   "source": [
    "df5 = df4.copy()\n",
    "df5.head()"
   ]
  },
  {
   "cell_type": "code",
   "execution_count": 128,
   "id": "fb5ca999",
   "metadata": {},
   "outputs": [
    {
     "data": {
      "image/png": "[encoded data removed]",
      "text/plain": [
       "<Figure size 640x480 with 1 Axes>"
      ]
     },
     "metadata": {},
     "output_type": "display_data"
    }
   ],
   "source": [
    "#Checking whether the same car has huge price difference between cities\n",
    "def compare_cities(df, car_model, first_city, second_city):\n",
    "    first_city_df = df[(df['varients'] == car_model) & (df['city'] == first_city)]\n",
    "    second_city_df = df[(df['varients'] == car_model) & (df['city'] == second_city)]\n",
    "    plt.scatter(x='kms',y='price', data=first_city_df,color = 'green', s = 'car_life', marker = 'o',label = first_city)\n",
    "    plt.scatter(x='kms',y='price', data=second_city_df,color = 'red', s = 'car_life', marker = '^', label = second_city)\n",
    "    plt.legend()\n",
    "    \n",
    "compare_cities(df5,'Swift','Chennai','Delhi')\n",
    "    "
   ]
  },
  {
   "cell_type": "code",
   "execution_count": 129,
   "id": "88e1efea",
   "metadata": {},
   "outputs": [
    {
     "data": {
      "text/plain": [
       "array(['Maruti - Swift dzire', 'Maruti - Swift', 'Maruti - Ritz',\n",
       "       'Hyundai - I20', 'Honda - City', 'Maruti - Wagon r 1.0',\n",
       "       'Maruti - Ciaz', 'Maruti - Baleno', 'Tata - Tiago',\n",
       "       'Hyundai - Verna', 'Mahindra - Tuv300', 'Maruti - S cross',\n",
       "       'Maruti - Ignis', 'Hyundai - I10', 'Hyundai - Creta',\n",
       "       'Hyundai - Elite i20', 'Ford - Ecosport', 'Maruti - Dzire',\n",
       "       'Hyundai - Grand i10', 'Toyota - Innova', 'Maruti - Vitara brezza',\n",
       "       'Honda - Amaze', 'Maruti - Ertiga', 'Honda - Wr-v', 'Honda - Jazz',\n",
       "       'Renault - Kwid', 'Hyundai - Venue', 'Ford - Figo aspire',\n",
       "       'Toyota - Corolla altis', 'Honda - Brio', 'Maruti - Alto k10',\n",
       "       'Volkswagen - Polo', 'Maruti - Alto', 'Maruti - Alto 800',\n",
       "       'Maruti - Celerio', 'Hyundai - Eon', 'Tata - Nexon',\n",
       "       'Toyota - Innova crysta', 'Hyundai - I20 active', 'Kia - Seltos',\n",
       "       'Tata - Hexa', 'Mg - Hector', 'Maruti - Eeco',\n",
       "       'Hyundai - New santro'], dtype=object)"
      ]
     },
     "execution_count": 129,
     "metadata": {},
     "output_type": "execute_result"
    }
   ],
   "source": [
    "df5['car_model'] = df5['brand'] + ' - ' + df5['varients']\n",
    "df5.car_model.unique()"
   ]
  },
  {
   "cell_type": "code",
   "execution_count": 130,
   "id": "0da326b5",
   "metadata": {},
   "outputs": [],
   "source": [
    "dummies_car_model = pd.get_dummies(df5['car_model'])\n",
    "dummies_type = pd.get_dummies(df5['type'])\n",
    "dummies_fuel = pd.get_dummies(df5['fuel'])\n",
    "dummies_city = pd.get_dummies(df5['city'])"
   ]
  },
  {
   "cell_type": "code",
   "execution_count": 131,
   "id": "daf1869d",
   "metadata": {},
   "outputs": [
    {
     "data": {
      "text/html": [
       "<div>\n",
       "<style scoped>\n",
       "    .dataframe tbody tr th:only-of-type {\n",
       "        vertical-align: middle;\n",
       "    }\n",
       "\n",
       "    .dataframe tbody tr th {\n",
       "        vertical-align: top;\n",
       "    }\n",
       "\n",
       "    .dataframe thead th {\n",
       "        text-align: right;\n",
       "    }\n",
       "</style>\n",
       "<table border=\"1\" class=\"dataframe\">\n",
       "  <thead>\n",
       "    <tr style=\"text-align: right;\">\n",
       "      <th></th>\n",
       "      <th>kms</th>\n",
       "      <th>price</th>\n",
       "      <th>owners</th>\n",
       "      <th>car_life</th>\n",
       "    </tr>\n",
       "  </thead>\n",
       "  <tbody>\n",
       "    <tr>\n",
       "      <th>0</th>\n",
       "      <td>118117</td>\n",
       "      <td>316399</td>\n",
       "      <td>1</td>\n",
       "      <td>10</td>\n",
       "    </tr>\n",
       "    <tr>\n",
       "      <th>1</th>\n",
       "      <td>114506</td>\n",
       "      <td>341599</td>\n",
       "      <td>1</td>\n",
       "      <td>9</td>\n",
       "    </tr>\n",
       "    <tr>\n",
       "      <th>2</th>\n",
       "      <td>43382</td>\n",
       "      <td>344199</td>\n",
       "      <td>1</td>\n",
       "      <td>8</td>\n",
       "    </tr>\n",
       "    <tr>\n",
       "      <th>3</th>\n",
       "      <td>64361</td>\n",
       "      <td>355799</td>\n",
       "      <td>1</td>\n",
       "      <td>9</td>\n",
       "    </tr>\n",
       "    <tr>\n",
       "      <th>4</th>\n",
       "      <td>107206</td>\n",
       "      <td>401599</td>\n",
       "      <td>1</td>\n",
       "      <td>8</td>\n",
       "    </tr>\n",
       "  </tbody>\n",
       "</table>\n",
       "</div>"
      ],
      "text/plain": [
       "      kms   price owners  car_life\n",
       "0  118117  316399      1        10\n",
       "1  114506  341599      1         9\n",
       "2   43382  344199      1         8\n",
       "3   64361  355799      1         9\n",
       "4  107206  401599      1         8"
      ]
     },
     "execution_count": 131,
     "metadata": {},
     "output_type": "execute_result"
    }
   ],
   "source": [
    "df6 = df5.drop(['brand','fuel','varients','type' ,'city','avg_kms_per_year','manufactured','car_model'], axis = 1)\n",
    "df6.head()"
   ]
  },
  {
   "cell_type": "code",
   "execution_count": 132,
   "id": "8fc9fc56",
   "metadata": {},
   "outputs": [
    {
     "data": {
      "text/html": [
       "<div>\n",
       "<style scoped>\n",
       "    .dataframe tbody tr th:only-of-type {\n",
       "        vertical-align: middle;\n",
       "    }\n",
       "\n",
       "    .dataframe tbody tr th {\n",
       "        vertical-align: top;\n",
       "    }\n",
       "\n",
       "    .dataframe thead th {\n",
       "        text-align: right;\n",
       "    }\n",
       "</style>\n",
       "<table border=\"1\" class=\"dataframe\">\n",
       "  <thead>\n",
       "    <tr style=\"text-align: right;\">\n",
       "      <th></th>\n",
       "      <th>kms</th>\n",
       "      <th>price</th>\n",
       "      <th>owners</th>\n",
       "      <th>car_life</th>\n",
       "      <th>Ford - Ecosport</th>\n",
       "      <th>Ford - Figo aspire</th>\n",
       "      <th>Honda - Amaze</th>\n",
       "      <th>Honda - Brio</th>\n",
       "      <th>Honda - City</th>\n",
       "      <th>Honda - Jazz</th>\n",
       "      <th>...</th>\n",
       "      <th>Hyderabad</th>\n",
       "      <th>Jaipur</th>\n",
       "      <th>Kolkata</th>\n",
       "      <th>Mumbai</th>\n",
       "      <th>Noida</th>\n",
       "      <th>Pune</th>\n",
       "      <th>Diesel</th>\n",
       "      <th>Petrol</th>\n",
       "      <th>Automatic</th>\n",
       "      <th>Manual</th>\n",
       "    </tr>\n",
       "  </thead>\n",
       "  <tbody>\n",
       "    <tr>\n",
       "      <th>0</th>\n",
       "      <td>118117</td>\n",
       "      <td>316399</td>\n",
       "      <td>1</td>\n",
       "      <td>10</td>\n",
       "      <td>0</td>\n",
       "      <td>0</td>\n",
       "      <td>0</td>\n",
       "      <td>0</td>\n",
       "      <td>0</td>\n",
       "      <td>0</td>\n",
       "      <td>...</td>\n",
       "      <td>0</td>\n",
       "      <td>0</td>\n",
       "      <td>0</td>\n",
       "      <td>0</td>\n",
       "      <td>0</td>\n",
       "      <td>0</td>\n",
       "      <td>1</td>\n",
       "      <td>0</td>\n",
       "      <td>0</td>\n",
       "      <td>1</td>\n",
       "    </tr>\n",
       "    <tr>\n",
       "      <th>1</th>\n",
       "      <td>114506</td>\n",
       "      <td>341599</td>\n",
       "      <td>1</td>\n",
       "      <td>9</td>\n",
       "      <td>0</td>\n",
       "      <td>0</td>\n",
       "      <td>0</td>\n",
       "      <td>0</td>\n",
       "      <td>0</td>\n",
       "      <td>0</td>\n",
       "      <td>...</td>\n",
       "      <td>0</td>\n",
       "      <td>0</td>\n",
       "      <td>0</td>\n",
       "      <td>0</td>\n",
       "      <td>0</td>\n",
       "      <td>0</td>\n",
       "      <td>1</td>\n",
       "      <td>0</td>\n",
       "      <td>0</td>\n",
       "      <td>1</td>\n",
       "    </tr>\n",
       "    <tr>\n",
       "      <th>2</th>\n",
       "      <td>43382</td>\n",
       "      <td>344199</td>\n",
       "      <td>1</td>\n",
       "      <td>8</td>\n",
       "      <td>0</td>\n",
       "      <td>0</td>\n",
       "      <td>0</td>\n",
       "      <td>0</td>\n",
       "      <td>0</td>\n",
       "      <td>0</td>\n",
       "      <td>...</td>\n",
       "      <td>0</td>\n",
       "      <td>0</td>\n",
       "      <td>0</td>\n",
       "      <td>0</td>\n",
       "      <td>0</td>\n",
       "      <td>0</td>\n",
       "      <td>1</td>\n",
       "      <td>0</td>\n",
       "      <td>0</td>\n",
       "      <td>1</td>\n",
       "    </tr>\n",
       "    <tr>\n",
       "      <th>3</th>\n",
       "      <td>64361</td>\n",
       "      <td>355799</td>\n",
       "      <td>1</td>\n",
       "      <td>9</td>\n",
       "      <td>0</td>\n",
       "      <td>0</td>\n",
       "      <td>0</td>\n",
       "      <td>0</td>\n",
       "      <td>0</td>\n",
       "      <td>0</td>\n",
       "      <td>...</td>\n",
       "      <td>0</td>\n",
       "      <td>0</td>\n",
       "      <td>0</td>\n",
       "      <td>0</td>\n",
       "      <td>0</td>\n",
       "      <td>0</td>\n",
       "      <td>1</td>\n",
       "      <td>0</td>\n",
       "      <td>0</td>\n",
       "      <td>1</td>\n",
       "    </tr>\n",
       "    <tr>\n",
       "      <th>4</th>\n",
       "      <td>107206</td>\n",
       "      <td>401599</td>\n",
       "      <td>1</td>\n",
       "      <td>8</td>\n",
       "      <td>0</td>\n",
       "      <td>0</td>\n",
       "      <td>0</td>\n",
       "      <td>0</td>\n",
       "      <td>0</td>\n",
       "      <td>0</td>\n",
       "      <td>...</td>\n",
       "      <td>0</td>\n",
       "      <td>0</td>\n",
       "      <td>0</td>\n",
       "      <td>0</td>\n",
       "      <td>0</td>\n",
       "      <td>0</td>\n",
       "      <td>0</td>\n",
       "      <td>1</td>\n",
       "      <td>0</td>\n",
       "      <td>1</td>\n",
       "    </tr>\n",
       "    <tr>\n",
       "      <th>...</th>\n",
       "      <td>...</td>\n",
       "      <td>...</td>\n",
       "      <td>...</td>\n",
       "      <td>...</td>\n",
       "      <td>...</td>\n",
       "      <td>...</td>\n",
       "      <td>...</td>\n",
       "      <td>...</td>\n",
       "      <td>...</td>\n",
       "      <td>...</td>\n",
       "      <td>...</td>\n",
       "      <td>...</td>\n",
       "      <td>...</td>\n",
       "      <td>...</td>\n",
       "      <td>...</td>\n",
       "      <td>...</td>\n",
       "      <td>...</td>\n",
       "      <td>...</td>\n",
       "      <td>...</td>\n",
       "      <td>...</td>\n",
       "      <td>...</td>\n",
       "    </tr>\n",
       "    <tr>\n",
       "      <th>5304</th>\n",
       "      <td>13664</td>\n",
       "      <td>358000</td>\n",
       "      <td>1</td>\n",
       "      <td>3</td>\n",
       "      <td>0</td>\n",
       "      <td>0</td>\n",
       "      <td>0</td>\n",
       "      <td>0</td>\n",
       "      <td>0</td>\n",
       "      <td>0</td>\n",
       "      <td>...</td>\n",
       "      <td>0</td>\n",
       "      <td>0</td>\n",
       "      <td>0</td>\n",
       "      <td>0</td>\n",
       "      <td>0</td>\n",
       "      <td>0</td>\n",
       "      <td>0</td>\n",
       "      <td>1</td>\n",
       "      <td>0</td>\n",
       "      <td>1</td>\n",
       "    </tr>\n",
       "    <tr>\n",
       "      <th>5305</th>\n",
       "      <td>43060</td>\n",
       "      <td>358000</td>\n",
       "      <td>1</td>\n",
       "      <td>3</td>\n",
       "      <td>0</td>\n",
       "      <td>0</td>\n",
       "      <td>0</td>\n",
       "      <td>0</td>\n",
       "      <td>0</td>\n",
       "      <td>0</td>\n",
       "      <td>...</td>\n",
       "      <td>0</td>\n",
       "      <td>0</td>\n",
       "      <td>0</td>\n",
       "      <td>0</td>\n",
       "      <td>0</td>\n",
       "      <td>0</td>\n",
       "      <td>0</td>\n",
       "      <td>1</td>\n",
       "      <td>0</td>\n",
       "      <td>1</td>\n",
       "    </tr>\n",
       "    <tr>\n",
       "      <th>5363</th>\n",
       "      <td>84725</td>\n",
       "      <td>254500</td>\n",
       "      <td>2</td>\n",
       "      <td>10</td>\n",
       "      <td>0</td>\n",
       "      <td>0</td>\n",
       "      <td>0</td>\n",
       "      <td>0</td>\n",
       "      <td>0</td>\n",
       "      <td>0</td>\n",
       "      <td>...</td>\n",
       "      <td>0</td>\n",
       "      <td>0</td>\n",
       "      <td>0</td>\n",
       "      <td>0</td>\n",
       "      <td>1</td>\n",
       "      <td>0</td>\n",
       "      <td>0</td>\n",
       "      <td>1</td>\n",
       "      <td>0</td>\n",
       "      <td>1</td>\n",
       "    </tr>\n",
       "    <tr>\n",
       "      <th>5365</th>\n",
       "      <td>30229</td>\n",
       "      <td>284000</td>\n",
       "      <td>2</td>\n",
       "      <td>6</td>\n",
       "      <td>0</td>\n",
       "      <td>0</td>\n",
       "      <td>0</td>\n",
       "      <td>0</td>\n",
       "      <td>0</td>\n",
       "      <td>0</td>\n",
       "      <td>...</td>\n",
       "      <td>0</td>\n",
       "      <td>0</td>\n",
       "      <td>0</td>\n",
       "      <td>0</td>\n",
       "      <td>1</td>\n",
       "      <td>0</td>\n",
       "      <td>0</td>\n",
       "      <td>1</td>\n",
       "      <td>0</td>\n",
       "      <td>1</td>\n",
       "    </tr>\n",
       "    <tr>\n",
       "      <th>5366</th>\n",
       "      <td>34128</td>\n",
       "      <td>402000</td>\n",
       "      <td>1</td>\n",
       "      <td>3</td>\n",
       "      <td>0</td>\n",
       "      <td>0</td>\n",
       "      <td>0</td>\n",
       "      <td>0</td>\n",
       "      <td>0</td>\n",
       "      <td>0</td>\n",
       "      <td>...</td>\n",
       "      <td>0</td>\n",
       "      <td>0</td>\n",
       "      <td>0</td>\n",
       "      <td>0</td>\n",
       "      <td>1</td>\n",
       "      <td>0</td>\n",
       "      <td>0</td>\n",
       "      <td>1</td>\n",
       "      <td>0</td>\n",
       "      <td>1</td>\n",
       "    </tr>\n",
       "  </tbody>\n",
       "</table>\n",
       "<p>4173 rows × 63 columns</p>\n",
       "</div>"
      ],
      "text/plain": [
       "         kms   price owners  car_life  Ford - Ecosport  Ford - Figo aspire  \\\n",
       "0     118117  316399      1        10                0                   0   \n",
       "1     114506  341599      1         9                0                   0   \n",
       "2      43382  344199      1         8                0                   0   \n",
       "3      64361  355799      1         9                0                   0   \n",
       "4     107206  401599      1         8                0                   0   \n",
       "...      ...     ...    ...       ...              ...                 ...   \n",
       "5304   13664  358000      1         3                0                   0   \n",
       "5305   43060  358000      1         3                0                   0   \n",
       "5363   84725  254500      2        10                0                   0   \n",
       "5365   30229  284000      2         6                0                   0   \n",
       "5366   34128  402000      1         3                0                   0   \n",
       "\n",
       "      Honda - Amaze  Honda - Brio  Honda - City  Honda - Jazz  ...  Hyderabad  \\\n",
       "0                 0             0             0             0  ...          0   \n",
       "1                 0             0             0             0  ...          0   \n",
       "2                 0             0             0             0  ...          0   \n",
       "3                 0             0             0             0  ...          0   \n",
       "4                 0             0             0             0  ...          0   \n",
       "...             ...           ...           ...           ...  ...        ...   \n",
       "5304              0             0             0             0  ...          0   \n",
       "5305              0             0             0             0  ...          0   \n",
       "5363              0             0             0             0  ...          0   \n",
       "5365              0             0             0             0  ...          0   \n",
       "5366              0             0             0             0  ...          0   \n",
       "\n",
       "      Jaipur  Kolkata  Mumbai  Noida  Pune  Diesel  Petrol  Automatic  Manual  \n",
       "0          0        0       0      0     0       1       0          0       1  \n",
       "1          0        0       0      0     0       1       0          0       1  \n",
       "2          0        0       0      0     0       1       0          0       1  \n",
       "3          0        0       0      0     0       1       0          0       1  \n",
       "4          0        0       0      0     0       0       1          0       1  \n",
       "...      ...      ...     ...    ...   ...     ...     ...        ...     ...  \n",
       "5304       0        0       0      0     0       0       1          0       1  \n",
       "5305       0        0       0      0     0       0       1          0       1  \n",
       "5363       0        0       0      1     0       0       1          0       1  \n",
       "5365       0        0       0      1     0       0       1          0       1  \n",
       "5366       0        0       0      1     0       0       1          0       1  \n",
       "\n",
       "[4173 rows x 63 columns]"
      ]
     },
     "execution_count": 132,
     "metadata": {},
     "output_type": "execute_result"
    }
   ],
   "source": [
    "df_final = pd.concat([df6,dummies_car_model,dummies_city,dummies_fuel,dummies_type], axis = 1)\n",
    "df_final"
   ]
  },
  {
   "cell_type": "code",
   "execution_count": 133,
   "id": "2d373dfb",
   "metadata": {},
   "outputs": [
    {
     "data": {
      "text/html": [
       "<div>\n",
       "<style scoped>\n",
       "    .dataframe tbody tr th:only-of-type {\n",
       "        vertical-align: middle;\n",
       "    }\n",
       "\n",
       "    .dataframe tbody tr th {\n",
       "        vertical-align: top;\n",
       "    }\n",
       "\n",
       "    .dataframe thead th {\n",
       "        text-align: right;\n",
       "    }\n",
       "</style>\n",
       "<table border=\"1\" class=\"dataframe\">\n",
       "  <thead>\n",
       "    <tr style=\"text-align: right;\">\n",
       "      <th></th>\n",
       "      <th>kms</th>\n",
       "      <th>owners</th>\n",
       "      <th>car_life</th>\n",
       "      <th>Ford - Ecosport</th>\n",
       "      <th>Ford - Figo aspire</th>\n",
       "      <th>Honda - Amaze</th>\n",
       "      <th>Honda - Brio</th>\n",
       "      <th>Honda - City</th>\n",
       "      <th>Honda - Jazz</th>\n",
       "      <th>Honda - Wr-v</th>\n",
       "      <th>...</th>\n",
       "      <th>Hyderabad</th>\n",
       "      <th>Jaipur</th>\n",
       "      <th>Kolkata</th>\n",
       "      <th>Mumbai</th>\n",
       "      <th>Noida</th>\n",
       "      <th>Pune</th>\n",
       "      <th>Diesel</th>\n",
       "      <th>Petrol</th>\n",
       "      <th>Automatic</th>\n",
       "      <th>Manual</th>\n",
       "    </tr>\n",
       "  </thead>\n",
       "  <tbody>\n",
       "    <tr>\n",
       "      <th>0</th>\n",
       "      <td>118117</td>\n",
       "      <td>1</td>\n",
       "      <td>10</td>\n",
       "      <td>0</td>\n",
       "      <td>0</td>\n",
       "      <td>0</td>\n",
       "      <td>0</td>\n",
       "      <td>0</td>\n",
       "      <td>0</td>\n",
       "      <td>0</td>\n",
       "      <td>...</td>\n",
       "      <td>0</td>\n",
       "      <td>0</td>\n",
       "      <td>0</td>\n",
       "      <td>0</td>\n",
       "      <td>0</td>\n",
       "      <td>0</td>\n",
       "      <td>1</td>\n",
       "      <td>0</td>\n",
       "      <td>0</td>\n",
       "      <td>1</td>\n",
       "    </tr>\n",
       "    <tr>\n",
       "      <th>1</th>\n",
       "      <td>114506</td>\n",
       "      <td>1</td>\n",
       "      <td>9</td>\n",
       "      <td>0</td>\n",
       "      <td>0</td>\n",
       "      <td>0</td>\n",
       "      <td>0</td>\n",
       "      <td>0</td>\n",
       "      <td>0</td>\n",
       "      <td>0</td>\n",
       "      <td>...</td>\n",
       "      <td>0</td>\n",
       "      <td>0</td>\n",
       "      <td>0</td>\n",
       "      <td>0</td>\n",
       "      <td>0</td>\n",
       "      <td>0</td>\n",
       "      <td>1</td>\n",
       "      <td>0</td>\n",
       "      <td>0</td>\n",
       "      <td>1</td>\n",
       "    </tr>\n",
       "    <tr>\n",
       "      <th>2</th>\n",
       "      <td>43382</td>\n",
       "      <td>1</td>\n",
       "      <td>8</td>\n",
       "      <td>0</td>\n",
       "      <td>0</td>\n",
       "      <td>0</td>\n",
       "      <td>0</td>\n",
       "      <td>0</td>\n",
       "      <td>0</td>\n",
       "      <td>0</td>\n",
       "      <td>...</td>\n",
       "      <td>0</td>\n",
       "      <td>0</td>\n",
       "      <td>0</td>\n",
       "      <td>0</td>\n",
       "      <td>0</td>\n",
       "      <td>0</td>\n",
       "      <td>1</td>\n",
       "      <td>0</td>\n",
       "      <td>0</td>\n",
       "      <td>1</td>\n",
       "    </tr>\n",
       "    <tr>\n",
       "      <th>3</th>\n",
       "      <td>64361</td>\n",
       "      <td>1</td>\n",
       "      <td>9</td>\n",
       "      <td>0</td>\n",
       "      <td>0</td>\n",
       "      <td>0</td>\n",
       "      <td>0</td>\n",
       "      <td>0</td>\n",
       "      <td>0</td>\n",
       "      <td>0</td>\n",
       "      <td>...</td>\n",
       "      <td>0</td>\n",
       "      <td>0</td>\n",
       "      <td>0</td>\n",
       "      <td>0</td>\n",
       "      <td>0</td>\n",
       "      <td>0</td>\n",
       "      <td>1</td>\n",
       "      <td>0</td>\n",
       "      <td>0</td>\n",
       "      <td>1</td>\n",
       "    </tr>\n",
       "    <tr>\n",
       "      <th>4</th>\n",
       "      <td>107206</td>\n",
       "      <td>1</td>\n",
       "      <td>8</td>\n",
       "      <td>0</td>\n",
       "      <td>0</td>\n",
       "      <td>0</td>\n",
       "      <td>0</td>\n",
       "      <td>0</td>\n",
       "      <td>0</td>\n",
       "      <td>0</td>\n",
       "      <td>...</td>\n",
       "      <td>0</td>\n",
       "      <td>0</td>\n",
       "      <td>0</td>\n",
       "      <td>0</td>\n",
       "      <td>0</td>\n",
       "      <td>0</td>\n",
       "      <td>0</td>\n",
       "      <td>1</td>\n",
       "      <td>0</td>\n",
       "      <td>1</td>\n",
       "    </tr>\n",
       "  </tbody>\n",
       "</table>\n",
       "<p>5 rows × 62 columns</p>\n",
       "</div>"
      ],
      "text/plain": [
       "      kms owners  car_life  Ford - Ecosport  Ford - Figo aspire  \\\n",
       "0  118117      1        10                0                   0   \n",
       "1  114506      1         9                0                   0   \n",
       "2   43382      1         8                0                   0   \n",
       "3   64361      1         9                0                   0   \n",
       "4  107206      1         8                0                   0   \n",
       "\n",
       "   Honda - Amaze  Honda - Brio  Honda - City  Honda - Jazz  Honda - Wr-v  ...  \\\n",
       "0              0             0             0             0             0  ...   \n",
       "1              0             0             0             0             0  ...   \n",
       "2              0             0             0             0             0  ...   \n",
       "3              0             0             0             0             0  ...   \n",
       "4              0             0             0             0             0  ...   \n",
       "\n",
       "   Hyderabad  Jaipur  Kolkata  Mumbai  Noida  Pune  Diesel  Petrol  Automatic  \\\n",
       "0          0       0        0       0      0     0       1       0          0   \n",
       "1          0       0        0       0      0     0       1       0          0   \n",
       "2          0       0        0       0      0     0       1       0          0   \n",
       "3          0       0        0       0      0     0       1       0          0   \n",
       "4          0       0        0       0      0     0       0       1          0   \n",
       "\n",
       "   Manual  \n",
       "0       1  \n",
       "1       1  \n",
       "2       1  \n",
       "3       1  \n",
       "4       1  \n",
       "\n",
       "[5 rows x 62 columns]"
      ]
     },
     "execution_count": 133,
     "metadata": {},
     "output_type": "execute_result"
    }
   ],
   "source": [
    "X = df_final.drop('price',axis = 1)\n",
    "X.head()"
   ]
  },
  {
   "cell_type": "code",
   "execution_count": 134,
   "id": "fbb1470b",
   "metadata": {},
   "outputs": [
    {
     "data": {
      "text/plain": [
       "0    316399\n",
       "1    341599\n",
       "2    344199\n",
       "3    355799\n",
       "4    401599\n",
       "Name: price, dtype: int64"
      ]
     },
     "execution_count": 134,
     "metadata": {},
     "output_type": "execute_result"
    }
   ],
   "source": [
    "y = df_final['price']\n",
    "y.head()"
   ]
  },
  {
   "cell_type": "code",
   "execution_count": 135,
   "id": "3f8f7613",
   "metadata": {},
   "outputs": [],
   "source": [
    "from sklearn.model_selection import train_test_split\n",
    "X_train,X_test,y_train, y_test = train_test_split(X,y,test_size=0.2,random_state=10)"
   ]
  },
  {
   "cell_type": "code",
   "execution_count": 136,
   "id": "c664acb9",
   "metadata": {},
   "outputs": [
    {
     "data": {
      "text/plain": [
       "0.9063131348677657"
      ]
     },
     "execution_count": 136,
     "metadata": {},
     "output_type": "execute_result"
    }
   ],
   "source": [
    "from sklearn.linear_model import LinearRegression\n",
    "LR = LinearRegression()\n",
    "LR.fit(X_train,y_train)\n",
    "LR.score(X_test,y_test)"
   ]
  },
  {
   "cell_type": "code",
   "execution_count": 137,
   "id": "c5ba8b39",
   "metadata": {},
   "outputs": [
    {
     "data": {
      "text/plain": [
       "array([0.8990397 , 0.90756964, 0.8968954 , 0.90453484, 0.90635542])"
      ]
     },
     "execution_count": 137,
     "metadata": {},
     "output_type": "execute_result"
    }
   ],
   "source": [
    "from sklearn.model_selection import ShuffleSplit\n",
    "from sklearn.model_selection import cross_val_score\n",
    "\n",
    "\n",
    "ss = ShuffleSplit(n_splits = 5, test_size=0.2, random_state=5)\n",
    "cross_val_score(LR,X,y,cv = ss)"
   ]
  },
  {
   "cell_type": "code",
   "execution_count": 138,
   "id": "bae0b659",
   "metadata": {},
   "outputs": [],
   "source": [
    "from sklearn.linear_model import Lasso\n",
    "from sklearn.tree import DecisionTreeRegressor\n",
    "from sklearn.model_selection import GridSearchCV\n",
    "\n",
    "Regression_algorithms = {\n",
    "    'Linear_Regression':{\n",
    "        'model': LinearRegression(),\n",
    "        'params':{\n",
    "            'normalize':[True,False]\n",
    "        }\n",
    "    },\n",
    "    'Lasso_Regression':{\n",
    "        'model': Lasso(),\n",
    "        'params':{\n",
    "            'alpha':[1,2],\n",
    "            'selection':['cyclic','random']\n",
    "        }\n",
    "    },\n",
    "    'Decision Tree Classifier':{\n",
    "        'model':DecisionTreeRegressor(),\n",
    "        'params':{\n",
    "            'criterion':['mse','friedman_mse'],\n",
    "            'splitter':['best','random']\n",
    "        }\n",
    "    }\n",
    "}"
   ]
  },
  {
   "cell_type": "code",
   "execution_count": 139,
   "id": "89311e8c",
   "metadata": {},
   "outputs": [
    {
     "name": "stderr",
     "output_type": "stream",
     "text": [
      "/opt/homebrew/anaconda3/lib/python3.9/site-packages/sklearn/linear_model/_base.py:141: FutureWarning: 'normalize' was deprecated in version 1.0 and will be removed in 1.2.\n",
      "If you wish to scale the data, use Pipeline with a StandardScaler in a preprocessing stage. To reproduce the previous behavior:\n",
      "\n",
      "from sklearn.pipeline import make_pipeline\n",
      "\n",
      "model = make_pipeline(StandardScaler(with_mean=False), LinearRegression())\n",
      "\n",
      "If you wish to pass a sample_weight parameter, you need to pass it as a fit parameter to each step of the pipeline as follows:\n",
      "\n",
      "kwargs = {s[0] + '__sample_weight': sample_weight for s in model.steps}\n",
      "model.fit(X, y, **kwargs)\n",
      "\n",
      "\n",
      "  warnings.warn(\n",
      "/opt/homebrew/anaconda3/lib/python3.9/site-packages/sklearn/linear_model/_base.py:141: FutureWarning: 'normalize' was deprecated in version 1.0 and will be removed in 1.2.\n",
      "If you wish to scale the data, use Pipeline with a StandardScaler in a preprocessing stage. To reproduce the previous behavior:\n",
      "\n",
      "from sklearn.pipeline import make_pipeline\n",
      "\n",
      "model = make_pipeline(StandardScaler(with_mean=False), LinearRegression())\n",
      "\n",
      "If you wish to pass a sample_weight parameter, you need to pass it as a fit parameter to each step of the pipeline as follows:\n",
      "\n",
      "kwargs = {s[0] + '__sample_weight': sample_weight for s in model.steps}\n",
      "model.fit(X, y, **kwargs)\n",
      "\n",
      "\n",
      "  warnings.warn(\n",
      "/opt/homebrew/anaconda3/lib/python3.9/site-packages/sklearn/linear_model/_base.py:141: FutureWarning: 'normalize' was deprecated in version 1.0 and will be removed in 1.2.\n",
      "If you wish to scale the data, use Pipeline with a StandardScaler in a preprocessing stage. To reproduce the previous behavior:\n",
      "\n",
      "from sklearn.pipeline import make_pipeline\n",
      "\n",
      "model = make_pipeline(StandardScaler(with_mean=False), LinearRegression())\n",
      "\n",
      "If you wish to pass a sample_weight parameter, you need to pass it as a fit parameter to each step of the pipeline as follows:\n",
      "\n",
      "kwargs = {s[0] + '__sample_weight': sample_weight for s in model.steps}\n",
      "model.fit(X, y, **kwargs)\n",
      "\n",
      "\n",
      "  warnings.warn(\n",
      "/opt/homebrew/anaconda3/lib/python3.9/site-packages/sklearn/linear_model/_base.py:141: FutureWarning: 'normalize' was deprecated in version 1.0 and will be removed in 1.2.\n",
      "If you wish to scale the data, use Pipeline with a StandardScaler in a preprocessing stage. To reproduce the previous behavior:\n",
      "\n",
      "from sklearn.pipeline import make_pipeline\n",
      "\n",
      "model = make_pipeline(StandardScaler(with_mean=False), LinearRegression())\n",
      "\n",
      "If you wish to pass a sample_weight parameter, you need to pass it as a fit parameter to each step of the pipeline as follows:\n",
      "\n",
      "kwargs = {s[0] + '__sample_weight': sample_weight for s in model.steps}\n",
      "model.fit(X, y, **kwargs)\n",
      "\n",
      "\n",
      "  warnings.warn(\n",
      "/opt/homebrew/anaconda3/lib/python3.9/site-packages/sklearn/linear_model/_base.py:141: FutureWarning: 'normalize' was deprecated in version 1.0 and will be removed in 1.2.\n",
      "If you wish to scale the data, use Pipeline with a StandardScaler in a preprocessing stage. To reproduce the previous behavior:\n",
      "\n",
      "from sklearn.pipeline import make_pipeline\n",
      "\n",
      "model = make_pipeline(StandardScaler(with_mean=False), LinearRegression())\n",
      "\n",
      "If you wish to pass a sample_weight parameter, you need to pass it as a fit parameter to each step of the pipeline as follows:\n",
      "\n",
      "kwargs = {s[0] + '__sample_weight': sample_weight for s in model.steps}\n",
      "model.fit(X, y, **kwargs)\n",
      "\n",
      "\n",
      "  warnings.warn(\n",
      "/opt/homebrew/anaconda3/lib/python3.9/site-packages/sklearn/linear_model/_base.py:148: FutureWarning: 'normalize' was deprecated in version 1.0 and will be removed in 1.2. Please leave the normalize parameter to its default value to silence this warning. The default behavior of this estimator is to not do any normalization. If normalization is needed please use sklearn.preprocessing.StandardScaler instead.\n",
      "  warnings.warn(\n",
      "/opt/homebrew/anaconda3/lib/python3.9/site-packages/sklearn/linear_model/_base.py:148: FutureWarning: 'normalize' was deprecated in version 1.0 and will be removed in 1.2. Please leave the normalize parameter to its default value to silence this warning. The default behavior of this estimator is to not do any normalization. If normalization is needed please use sklearn.preprocessing.StandardScaler instead.\n",
      "  warnings.warn(\n",
      "/opt/homebrew/anaconda3/lib/python3.9/site-packages/sklearn/linear_model/_base.py:148: FutureWarning: 'normalize' was deprecated in version 1.0 and will be removed in 1.2. Please leave the normalize parameter to its default value to silence this warning. The default behavior of this estimator is to not do any normalization. If normalization is needed please use sklearn.preprocessing.StandardScaler instead.\n",
      "  warnings.warn(\n",
      "/opt/homebrew/anaconda3/lib/python3.9/site-packages/sklearn/linear_model/_base.py:148: FutureWarning: 'normalize' was deprecated in version 1.0 and will be removed in 1.2. Please leave the normalize parameter to its default value to silence this warning. The default behavior of this estimator is to not do any normalization. If normalization is needed please use sklearn.preprocessing.StandardScaler instead.\n",
      "  warnings.warn(\n",
      "/opt/homebrew/anaconda3/lib/python3.9/site-packages/sklearn/linear_model/_base.py:148: FutureWarning: 'normalize' was deprecated in version 1.0 and will be removed in 1.2. Please leave the normalize parameter to its default value to silence this warning. The default behavior of this estimator is to not do any normalization. If normalization is needed please use sklearn.preprocessing.StandardScaler instead.\n",
      "  warnings.warn(\n",
      "/opt/homebrew/anaconda3/lib/python3.9/site-packages/sklearn/linear_model/_base.py:148: FutureWarning: 'normalize' was deprecated in version 1.0 and will be removed in 1.2. Please leave the normalize parameter to its default value to silence this warning. The default behavior of this estimator is to not do any normalization. If normalization is needed please use sklearn.preprocessing.StandardScaler instead.\n",
      "  warnings.warn(\n",
      "/opt/homebrew/anaconda3/lib/python3.9/site-packages/sklearn/linear_model/_coordinate_descent.py:648: ConvergenceWarning: Objective did not converge. You might want to increase the number of iterations, check the scale of the features or consider increasing regularisation. Duality gap: 2.450e+11, tolerance: 2.027e+10\n",
      "  model = cd_fast.enet_coordinate_descent(\n",
      "/opt/homebrew/anaconda3/lib/python3.9/site-packages/sklearn/linear_model/_coordinate_descent.py:648: ConvergenceWarning: Objective did not converge. You might want to increase the number of iterations, check the scale of the features or consider increasing regularisation. Duality gap: 7.553e+11, tolerance: 2.051e+10\n",
      "  model = cd_fast.enet_coordinate_descent(\n",
      "/opt/homebrew/anaconda3/lib/python3.9/site-packages/sklearn/linear_model/_coordinate_descent.py:648: ConvergenceWarning: Objective did not converge. You might want to increase the number of iterations, check the scale of the features or consider increasing regularisation. Duality gap: 7.618e+11, tolerance: 2.008e+10\n",
      "  model = cd_fast.enet_coordinate_descent(\n",
      "/opt/homebrew/anaconda3/lib/python3.9/site-packages/sklearn/linear_model/_coordinate_descent.py:648: ConvergenceWarning: Objective did not converge. You might want to increase the number of iterations, check the scale of the features or consider increasing regularisation. Duality gap: 2.547e+11, tolerance: 2.049e+10\n",
      "  model = cd_fast.enet_coordinate_descent(\n",
      "/opt/homebrew/anaconda3/lib/python3.9/site-packages/sklearn/linear_model/_coordinate_descent.py:648: ConvergenceWarning: Objective did not converge. You might want to increase the number of iterations, check the scale of the features or consider increasing regularisation. Duality gap: 4.522e+12, tolerance: 2.085e+10\n",
      "  model = cd_fast.enet_coordinate_descent(\n",
      "/opt/homebrew/anaconda3/lib/python3.9/site-packages/sklearn/linear_model/_coordinate_descent.py:648: ConvergenceWarning: Objective did not converge. You might want to increase the number of iterations, check the scale of the features or consider increasing regularisation. Duality gap: 9.032e+12, tolerance: 2.027e+10\n",
      "  model = cd_fast.enet_coordinate_descent(\n",
      "/opt/homebrew/anaconda3/lib/python3.9/site-packages/sklearn/linear_model/_coordinate_descent.py:648: ConvergenceWarning: Objective did not converge. You might want to increase the number of iterations, check the scale of the features or consider increasing regularisation. Duality gap: 9.291e+12, tolerance: 2.051e+10\n",
      "  model = cd_fast.enet_coordinate_descent(\n"
     ]
    },
    {
     "name": "stderr",
     "output_type": "stream",
     "text": [
      "/opt/homebrew/anaconda3/lib/python3.9/site-packages/sklearn/linear_model/_coordinate_descent.py:648: ConvergenceWarning: Objective did not converge. You might want to increase the number of iterations, check the scale of the features or consider increasing regularisation. Duality gap: 8.841e+12, tolerance: 2.008e+10\n",
      "  model = cd_fast.enet_coordinate_descent(\n",
      "/opt/homebrew/anaconda3/lib/python3.9/site-packages/sklearn/linear_model/_coordinate_descent.py:648: ConvergenceWarning: Objective did not converge. You might want to increase the number of iterations, check the scale of the features or consider increasing regularisation. Duality gap: 9.212e+12, tolerance: 2.049e+10\n",
      "  model = cd_fast.enet_coordinate_descent(\n",
      "/opt/homebrew/anaconda3/lib/python3.9/site-packages/sklearn/linear_model/_coordinate_descent.py:648: ConvergenceWarning: Objective did not converge. You might want to increase the number of iterations, check the scale of the features or consider increasing regularisation. Duality gap: 9.429e+12, tolerance: 2.085e+10\n",
      "  model = cd_fast.enet_coordinate_descent(\n",
      "/opt/homebrew/anaconda3/lib/python3.9/site-packages/sklearn/linear_model/_coordinate_descent.py:648: ConvergenceWarning: Objective did not converge. You might want to increase the number of iterations, check the scale of the features or consider increasing regularisation. Duality gap: 2.501e+11, tolerance: 2.027e+10\n",
      "  model = cd_fast.enet_coordinate_descent(\n",
      "/opt/homebrew/anaconda3/lib/python3.9/site-packages/sklearn/linear_model/_coordinate_descent.py:648: ConvergenceWarning: Objective did not converge. You might want to increase the number of iterations, check the scale of the features or consider increasing regularisation. Duality gap: 2.638e+11, tolerance: 2.051e+10\n",
      "  model = cd_fast.enet_coordinate_descent(\n",
      "/opt/homebrew/anaconda3/lib/python3.9/site-packages/sklearn/linear_model/_coordinate_descent.py:648: ConvergenceWarning: Objective did not converge. You might want to increase the number of iterations, check the scale of the features or consider increasing regularisation. Duality gap: 8.791e+12, tolerance: 2.008e+10\n",
      "  model = cd_fast.enet_coordinate_descent(\n",
      "/opt/homebrew/anaconda3/lib/python3.9/site-packages/sklearn/linear_model/_coordinate_descent.py:648: ConvergenceWarning: Objective did not converge. You might want to increase the number of iterations, check the scale of the features or consider increasing regularisation. Duality gap: 9.143e+12, tolerance: 2.049e+10\n",
      "  model = cd_fast.enet_coordinate_descent(\n",
      "/opt/homebrew/anaconda3/lib/python3.9/site-packages/sklearn/linear_model/_coordinate_descent.py:648: ConvergenceWarning: Objective did not converge. You might want to increase the number of iterations, check the scale of the features or consider increasing regularisation. Duality gap: 2.738e+11, tolerance: 2.085e+10\n",
      "  model = cd_fast.enet_coordinate_descent(\n",
      "/opt/homebrew/anaconda3/lib/python3.9/site-packages/sklearn/linear_model/_coordinate_descent.py:648: ConvergenceWarning: Objective did not converge. You might want to increase the number of iterations, check the scale of the features or consider increasing regularisation. Duality gap: 9.066e+12, tolerance: 2.027e+10\n",
      "  model = cd_fast.enet_coordinate_descent(\n",
      "/opt/homebrew/anaconda3/lib/python3.9/site-packages/sklearn/linear_model/_coordinate_descent.py:648: ConvergenceWarning: Objective did not converge. You might want to increase the number of iterations, check the scale of the features or consider increasing regularisation. Duality gap: 9.322e+12, tolerance: 2.051e+10\n",
      "  model = cd_fast.enet_coordinate_descent(\n",
      "/opt/homebrew/anaconda3/lib/python3.9/site-packages/sklearn/linear_model/_coordinate_descent.py:648: ConvergenceWarning: Objective did not converge. You might want to increase the number of iterations, check the scale of the features or consider increasing regularisation. Duality gap: 8.873e+12, tolerance: 2.008e+10\n",
      "  model = cd_fast.enet_coordinate_descent(\n",
      "/opt/homebrew/anaconda3/lib/python3.9/site-packages/sklearn/linear_model/_coordinate_descent.py:648: ConvergenceWarning: Objective did not converge. You might want to increase the number of iterations, check the scale of the features or consider increasing regularisation. Duality gap: 8.545e+12, tolerance: 2.049e+10\n",
      "  model = cd_fast.enet_coordinate_descent(\n",
      "/opt/homebrew/anaconda3/lib/python3.9/site-packages/sklearn/linear_model/_coordinate_descent.py:648: ConvergenceWarning: Objective did not converge. You might want to increase the number of iterations, check the scale of the features or consider increasing regularisation. Duality gap: 9.458e+12, tolerance: 2.085e+10\n",
      "  model = cd_fast.enet_coordinate_descent(\n",
      "/opt/homebrew/anaconda3/lib/python3.9/site-packages/sklearn/linear_model/_coordinate_descent.py:648: ConvergenceWarning: Objective did not converge. You might want to increase the number of iterations, check the scale of the features or consider increasing regularisation. Duality gap: 9.474e+11, tolerance: 2.532e+10\n",
      "  model = cd_fast.enet_coordinate_descent(\n",
      "/opt/homebrew/anaconda3/lib/python3.9/site-packages/sklearn/tree/_classes.py:397: FutureWarning: Criterion 'mse' was deprecated in v1.0 and will be removed in version 1.2. Use `criterion='squared_error'` which is equivalent.\n",
      "  warnings.warn(\n",
      "/opt/homebrew/anaconda3/lib/python3.9/site-packages/sklearn/tree/_classes.py:397: FutureWarning: Criterion 'mse' was deprecated in v1.0 and will be removed in version 1.2. Use `criterion='squared_error'` which is equivalent.\n",
      "  warnings.warn(\n",
      "/opt/homebrew/anaconda3/lib/python3.9/site-packages/sklearn/tree/_classes.py:397: FutureWarning: Criterion 'mse' was deprecated in v1.0 and will be removed in version 1.2. Use `criterion='squared_error'` which is equivalent.\n",
      "  warnings.warn(\n",
      "/opt/homebrew/anaconda3/lib/python3.9/site-packages/sklearn/tree/_classes.py:397: FutureWarning: Criterion 'mse' was deprecated in v1.0 and will be removed in version 1.2. Use `criterion='squared_error'` which is equivalent.\n",
      "  warnings.warn(\n",
      "/opt/homebrew/anaconda3/lib/python3.9/site-packages/sklearn/tree/_classes.py:397: FutureWarning: Criterion 'mse' was deprecated in v1.0 and will be removed in version 1.2. Use `criterion='squared_error'` which is equivalent.\n",
      "  warnings.warn(\n",
      "/opt/homebrew/anaconda3/lib/python3.9/site-packages/sklearn/tree/_classes.py:397: FutureWarning: Criterion 'mse' was deprecated in v1.0 and will be removed in version 1.2. Use `criterion='squared_error'` which is equivalent.\n",
      "  warnings.warn(\n",
      "/opt/homebrew/anaconda3/lib/python3.9/site-packages/sklearn/tree/_classes.py:397: FutureWarning: Criterion 'mse' was deprecated in v1.0 and will be removed in version 1.2. Use `criterion='squared_error'` which is equivalent.\n",
      "  warnings.warn(\n",
      "/opt/homebrew/anaconda3/lib/python3.9/site-packages/sklearn/tree/_classes.py:397: FutureWarning: Criterion 'mse' was deprecated in v1.0 and will be removed in version 1.2. Use `criterion='squared_error'` which is equivalent.\n",
      "  warnings.warn(\n",
      "/opt/homebrew/anaconda3/lib/python3.9/site-packages/sklearn/tree/_classes.py:397: FutureWarning: Criterion 'mse' was deprecated in v1.0 and will be removed in version 1.2. Use `criterion='squared_error'` which is equivalent.\n",
      "  warnings.warn(\n",
      "/opt/homebrew/anaconda3/lib/python3.9/site-packages/sklearn/tree/_classes.py:397: FutureWarning: Criterion 'mse' was deprecated in v1.0 and will be removed in version 1.2. Use `criterion='squared_error'` which is equivalent.\n",
      "  warnings.warn(\n"
     ]
    }
   ],
   "source": [
    "ss = ShuffleSplit(n_splits = 5, test_size=0.2, random_state=5)\n",
    "scores = []\n",
    "for algo,config in Regression_algorithms.items():\n",
    "    gs = GridSearchCV(config['model'],config['params'],cv = ss,return_train_score=False)\n",
    "    gs.fit(X,y)\n",
    "    scores.append({\n",
    "        'model' : algo,\n",
    "        'best parameter' : gs.best_params_,\n",
    "        'best score' : gs.best_score_\n",
    "    })"
   ]
  },
  {
   "cell_type": "code",
   "execution_count": 140,
   "id": "d7c29d02",
   "metadata": {},
   "outputs": [
    {
     "data": {
      "text/plain": [
       "[{'model': 'Linear_Regression',\n",
       "  'best parameter': {'normalize': False},\n",
       "  'best score': 0.9028789990991847},\n",
       " {'model': 'Lasso_Regression',\n",
       "  'best parameter': {'alpha': 1, 'selection': 'cyclic'},\n",
       "  'best score': 0.9028744081200768},\n",
       " {'model': 'Decision Tree Classifier',\n",
       "  'best parameter': {'criterion': 'friedman_mse', 'splitter': 'random'},\n",
       "  'best score': 0.9335892802336163}]"
      ]
     },
     "execution_count": 140,
     "metadata": {},
     "output_type": "execute_result"
    }
   ],
   "source": [
    "scores"
   ]
  },
  {
   "cell_type": "code",
   "execution_count": 141,
   "id": "038eb94c",
   "metadata": {},
   "outputs": [
    {
     "data": {
      "text/plain": [
       "34"
      ]
     },
     "execution_count": 141,
     "metadata": {},
     "output_type": "execute_result"
    }
   ],
   "source": [
    "import numpy as np\n",
    "np.where(X.columns == 'Maruti - Swift')[0][0]"
   ]
  },
  {
   "cell_type": "code",
   "execution_count": 142,
   "id": "ea1a7e85",
   "metadata": {},
   "outputs": [
    {
     "data": {
      "text/plain": [
       "array([0., 0., 0., 0., 0., 0., 0., 0., 0., 0., 0., 0., 0., 0., 0., 0., 0.,\n",
       "       0., 0., 0., 0., 0., 0., 0., 0., 0., 0., 0., 0., 0., 0., 0., 0., 0.,\n",
       "       0., 0., 0., 0., 0., 0., 0., 0., 0., 0., 0., 0., 0., 0., 0., 0., 0.,\n",
       "       0., 0., 0., 0., 0., 0., 0., 0., 0., 0., 0.])"
      ]
     },
     "execution_count": 142,
     "metadata": {},
     "output_type": "execute_result"
    }
   ],
   "source": [
    "np.zeros(len(X.columns))"
   ]
  },
  {
   "cell_type": "code",
   "execution_count": 144,
   "id": "02d99976",
   "metadata": {
    "scrolled": true
   },
   "outputs": [
    {
     "name": "stdout",
     "output_type": "stream",
     "text": [
      "<class 'pandas.core.frame.DataFrame'>\n",
      "Int64Index: 4173 entries, 0 to 5366\n",
      "Data columns (total 62 columns):\n",
      " #   Column                  Non-Null Count  Dtype \n",
      "---  ------                  --------------  ----- \n",
      " 0   kms                     4173 non-null   int64 \n",
      " 1   owners                  4173 non-null   object\n",
      " 2   car_life                4173 non-null   int64 \n",
      " 3   Ford - Ecosport         4173 non-null   uint8 \n",
      " 4   Ford - Figo aspire      4173 non-null   uint8 \n",
      " 5   Honda - Amaze           4173 non-null   uint8 \n",
      " 6   Honda - Brio            4173 non-null   uint8 \n",
      " 7   Honda - City            4173 non-null   uint8 \n",
      " 8   Honda - Jazz            4173 non-null   uint8 \n",
      " 9   Honda - Wr-v            4173 non-null   uint8 \n",
      " 10  Hyundai - Creta         4173 non-null   uint8 \n",
      " 11  Hyundai - Elite i20     4173 non-null   uint8 \n",
      " 12  Hyundai - Eon           4173 non-null   uint8 \n",
      " 13  Hyundai - Grand i10     4173 non-null   uint8 \n",
      " 14  Hyundai - I10           4173 non-null   uint8 \n",
      " 15  Hyundai - I20           4173 non-null   uint8 \n",
      " 16  Hyundai - I20 active    4173 non-null   uint8 \n",
      " 17  Hyundai - New santro    4173 non-null   uint8 \n",
      " 18  Hyundai - Venue         4173 non-null   uint8 \n",
      " 19  Hyundai - Verna         4173 non-null   uint8 \n",
      " 20  Kia - Seltos            4173 non-null   uint8 \n",
      " 21  Mahindra - Tuv300       4173 non-null   uint8 \n",
      " 22  Maruti - Alto           4173 non-null   uint8 \n",
      " 23  Maruti - Alto 800       4173 non-null   uint8 \n",
      " 24  Maruti - Alto k10       4173 non-null   uint8 \n",
      " 25  Maruti - Baleno         4173 non-null   uint8 \n",
      " 26  Maruti - Celerio        4173 non-null   uint8 \n",
      " 27  Maruti - Ciaz           4173 non-null   uint8 \n",
      " 28  Maruti - Dzire          4173 non-null   uint8 \n",
      " 29  Maruti - Eeco           4173 non-null   uint8 \n",
      " 30  Maruti - Ertiga         4173 non-null   uint8 \n",
      " 31  Maruti - Ignis          4173 non-null   uint8 \n",
      " 32  Maruti - Ritz           4173 non-null   uint8 \n",
      " 33  Maruti - S cross        4173 non-null   uint8 \n",
      " 34  Maruti - Swift          4173 non-null   uint8 \n",
      " 35  Maruti - Swift dzire    4173 non-null   uint8 \n",
      " 36  Maruti - Vitara brezza  4173 non-null   uint8 \n",
      " 37  Maruti - Wagon r 1.0    4173 non-null   uint8 \n",
      " 38  Mg - Hector             4173 non-null   uint8 \n",
      " 39  Renault - Kwid          4173 non-null   uint8 \n",
      " 40  Tata - Hexa             4173 non-null   uint8 \n",
      " 41  Tata - Nexon            4173 non-null   uint8 \n",
      " 42  Tata - Tiago            4173 non-null   uint8 \n",
      " 43  Toyota - Corolla altis  4173 non-null   uint8 \n",
      " 44  Toyota - Innova         4173 non-null   uint8 \n",
      " 45  Toyota - Innova crysta  4173 non-null   uint8 \n",
      " 46  Volkswagen - Polo       4173 non-null   uint8 \n",
      " 47  Ahmedabad               4173 non-null   uint8 \n",
      " 48  Bangalore               4173 non-null   uint8 \n",
      " 49  Chennai                 4173 non-null   uint8 \n",
      " 50  Delhi                   4173 non-null   uint8 \n",
      " 51  Gurgaon                 4173 non-null   uint8 \n",
      " 52  Hyderabad               4173 non-null   uint8 \n",
      " 53  Jaipur                  4173 non-null   uint8 \n",
      " 54  Kolkata                 4173 non-null   uint8 \n",
      " 55  Mumbai                  4173 non-null   uint8 \n",
      " 56  Noida                   4173 non-null   uint8 \n",
      " 57  Pune                    4173 non-null   uint8 \n",
      " 58  Diesel                  4173 non-null   uint8 \n",
      " 59  Petrol                  4173 non-null   uint8 \n",
      " 60  Automatic               4173 non-null   uint8 \n",
      " 61  Manual                  4173 non-null   uint8 \n",
      "dtypes: int64(2), object(1), uint8(59)\n",
      "memory usage: 370.8+ KB\n"
     ]
    }
   ],
   "source": [
    "X.info()"
   ]
  },
  {
   "cell_type": "code",
   "execution_count": 145,
   "id": "7871db2c",
   "metadata": {},
   "outputs": [],
   "source": [
    "X.owners = X.owners.astype('int64')"
   ]
  },
  {
   "cell_type": "code",
   "execution_count": 146,
   "id": "6eaccb72",
   "metadata": {
    "scrolled": true
   },
   "outputs": [
    {
     "name": "stdout",
     "output_type": "stream",
     "text": [
      "<class 'pandas.core.frame.DataFrame'>\n",
      "Int64Index: 4173 entries, 0 to 5366\n",
      "Data columns (total 62 columns):\n",
      " #   Column                  Non-Null Count  Dtype\n",
      "---  ------                  --------------  -----\n",
      " 0   kms                     4173 non-null   int64\n",
      " 1   owners                  4173 non-null   int64\n",
      " 2   car_life                4173 non-null   int64\n",
      " 3   Ford - Ecosport         4173 non-null   uint8\n",
      " 4   Ford - Figo aspire      4173 non-null   uint8\n",
      " 5   Honda - Amaze           4173 non-null   uint8\n",
      " 6   Honda - Brio            4173 non-null   uint8\n",
      " 7   Honda - City            4173 non-null   uint8\n",
      " 8   Honda - Jazz            4173 non-null   uint8\n",
      " 9   Honda - Wr-v            4173 non-null   uint8\n",
      " 10  Hyundai - Creta         4173 non-null   uint8\n",
      " 11  Hyundai - Elite i20     4173 non-null   uint8\n",
      " 12  Hyundai - Eon           4173 non-null   uint8\n",
      " 13  Hyundai - Grand i10     4173 non-null   uint8\n",
      " 14  Hyundai - I10           4173 non-null   uint8\n",
      " 15  Hyundai - I20           4173 non-null   uint8\n",
      " 16  Hyundai - I20 active    4173 non-null   uint8\n",
      " 17  Hyundai - New santro    4173 non-null   uint8\n",
      " 18  Hyundai - Venue         4173 non-null   uint8\n",
      " 19  Hyundai - Verna         4173 non-null   uint8\n",
      " 20  Kia - Seltos            4173 non-null   uint8\n",
      " 21  Mahindra - Tuv300       4173 non-null   uint8\n",
      " 22  Maruti - Alto           4173 non-null   uint8\n",
      " 23  Maruti - Alto 800       4173 non-null   uint8\n",
      " 24  Maruti - Alto k10       4173 non-null   uint8\n",
      " 25  Maruti - Baleno         4173 non-null   uint8\n",
      " 26  Maruti - Celerio        4173 non-null   uint8\n",
      " 27  Maruti - Ciaz           4173 non-null   uint8\n",
      " 28  Maruti - Dzire          4173 non-null   uint8\n",
      " 29  Maruti - Eeco           4173 non-null   uint8\n",
      " 30  Maruti - Ertiga         4173 non-null   uint8\n",
      " 31  Maruti - Ignis          4173 non-null   uint8\n",
      " 32  Maruti - Ritz           4173 non-null   uint8\n",
      " 33  Maruti - S cross        4173 non-null   uint8\n",
      " 34  Maruti - Swift          4173 non-null   uint8\n",
      " 35  Maruti - Swift dzire    4173 non-null   uint8\n",
      " 36  Maruti - Vitara brezza  4173 non-null   uint8\n",
      " 37  Maruti - Wagon r 1.0    4173 non-null   uint8\n",
      " 38  Mg - Hector             4173 non-null   uint8\n",
      " 39  Renault - Kwid          4173 non-null   uint8\n",
      " 40  Tata - Hexa             4173 non-null   uint8\n",
      " 41  Tata - Nexon            4173 non-null   uint8\n",
      " 42  Tata - Tiago            4173 non-null   uint8\n",
      " 43  Toyota - Corolla altis  4173 non-null   uint8\n",
      " 44  Toyota - Innova         4173 non-null   uint8\n",
      " 45  Toyota - Innova crysta  4173 non-null   uint8\n",
      " 46  Volkswagen - Polo       4173 non-null   uint8\n",
      " 47  Ahmedabad               4173 non-null   uint8\n",
      " 48  Bangalore               4173 non-null   uint8\n",
      " 49  Chennai                 4173 non-null   uint8\n",
      " 50  Delhi                   4173 non-null   uint8\n",
      " 51  Gurgaon                 4173 non-null   uint8\n",
      " 52  Hyderabad               4173 non-null   uint8\n",
      " 53  Jaipur                  4173 non-null   uint8\n",
      " 54  Kolkata                 4173 non-null   uint8\n",
      " 55  Mumbai                  4173 non-null   uint8\n",
      " 56  Noida                   4173 non-null   uint8\n",
      " 57  Pune                    4173 non-null   uint8\n",
      " 58  Diesel                  4173 non-null   uint8\n",
      " 59  Petrol                  4173 non-null   uint8\n",
      " 60  Automatic               4173 non-null   uint8\n",
      " 61  Manual                  4173 non-null   uint8\n",
      "dtypes: int64(3), uint8(59)\n",
      "memory usage: 370.8 KB\n"
     ]
    }
   ],
   "source": [
    "X.info()"
   ]
  },
  {
   "cell_type": "code",
   "execution_count": 147,
   "id": "a8c37cae",
   "metadata": {},
   "outputs": [
    {
     "name": "stderr",
     "output_type": "stream",
     "text": [
      "/opt/homebrew/anaconda3/lib/python3.9/site-packages/sklearn/tree/_classes.py:397: FutureWarning: Criterion 'mse' was deprecated in v1.0 and will be removed in version 1.2. Use `criterion='squared_error'` which is equivalent.\n",
      "  warnings.warn(\n"
     ]
    }
   ],
   "source": [
    "DTR = DecisionTreeRegressor(criterion= 'mse', splitter= 'random')\n",
    "DTR.fit(X.values,y.values)\n",
    "def predict_price(car_model, type, fuel, city,kms,owners, car_life):\n",
    "    car_model_index = np.where(X.columns == car_model)[0][0]\n",
    "    type_index = np.where(X.columns == type)[0][0]\n",
    "    fuel_index = np.where(X.columns == fuel)[0][0]\n",
    "    city_index = np.where(X.columns == city)[0][0]\n",
    "    \n",
    "    x = np.zeros(len(X.columns))\n",
    "    x[0] = kms\n",
    "    x[1] = owners\n",
    "    x[2] = car_life\n",
    "    \n",
    "\n",
    "    if car_model_index >= 0:\n",
    "        x[car_model_index] = 1\n",
    "    if type_index >= 0:\n",
    "        x[type_index] = 1\n",
    "    if fuel_index >= 0:\n",
    "        x[fuel_index] = 1\n",
    "    if city_index >= 0:\n",
    "        x[city_index] = 1\n",
    "        \n",
    "    return DTR.predict([x])[0]\n",
    "    "
   ]
  },
  {
   "cell_type": "code",
   "execution_count": 148,
   "id": "a02bb06a",
   "metadata": {},
   "outputs": [
    {
     "data": {
      "text/plain": [
       "809199.0"
      ]
     },
     "execution_count": 148,
     "metadata": {},
     "output_type": "execute_result"
    }
   ],
   "source": [
    "predict_price('Maruti - Swift','Automatic','Petrol','Bangalore',20000,1,3)"
   ]
  },
  {
   "cell_type": "code",
   "execution_count": 149,
   "id": "85c9c842",
   "metadata": {},
   "outputs": [],
   "source": [
    "#Save the model as a pickle file\n",
    "import pickle\n",
    "with open('Used_car_price_prediction.pickle','wb') as f:\n",
    "    pickle.dump(DTR,f)"
   ]
  },
  {
   "cell_type": "code",
   "execution_count": 150,
   "id": "044307bc",
   "metadata": {},
   "outputs": [],
   "source": [
    "#save the one hot encoded columns as json file\n",
    "import json\n",
    "columns = {\n",
    "    'data_columns': [col.lower() for col in X.columns]\n",
    "}\n",
    "with open('columns.json','w') as f:\n",
    "    f.write(json.dumps(columns))"
   ]
  },
  {
   "cell_type": "code",
   "execution_count": null,
   "id": "9195aacd",
   "metadata": {},
   "outputs": [],
   "source": []
  },
  {
   "cell_type": "code",
   "execution_count": null,
   "id": "d9f845e4",
   "metadata": {},
   "outputs": [],
   "source": []
  },
  {
   "cell_type": "code",
   "execution_count": null,
   "id": "e3e7201c",
   "metadata": {},
   "outputs": [],
   "source": []
  },
  {
   "cell_type": "code",
   "execution_count": null,
   "id": "aac46dd1",
   "metadata": {},
   "outputs": [],
   "source": []
  }
 ],
 "metadata": {
  "kernelspec": {
   "display_name": "Python 3 (ipykernel)",
   "language": "python",
   "name": "python3"
  },
  "language_info": {
   "codemirror_mode": {
    "name": "ipython",
    "version": 3
   },
   "file_extension": ".py",
   "mimetype": "text/x-python",
   "name": "python",
   "nbconvert_exporter": "python",
   "pygments_lexer": "ipython3",
   "version": "3.9.13"
  }
 },
 "nbformat": 4,
 "nbformat_minor": 5
}
